{
 "cells": [
  {
   "cell_type": "code",
   "execution_count": 1,
   "id": "be96bc97-0315-4172-90b4-0bce451c95e9",
   "metadata": {
    "editable": true,
    "slideshow": {
     "slide_type": ""
    },
    "tags": []
   },
   "outputs": [
    {
     "data": {
      "text/plain": [
       "True"
      ]
     },
     "execution_count": 1,
     "metadata": {},
     "output_type": "execute_result"
    }
   ],
   "source": [
    "import os\n",
    "import json\n",
    "import numpy as np\n",
    "import textdistance as td\n",
    "from openai import OpenAI\n",
    "import numbers\n",
    "from dotenv import load_dotenv\n",
    "\n",
    "load_dotenv()"
   ]
  },
  {
   "cell_type": "markdown",
   "id": "9aa39f49-5491-4d46-8920-11d0ec8676db",
   "metadata": {
    "editable": true,
    "slideshow": {
     "slide_type": ""
    },
    "tags": []
   },
   "source": [
    "# **Feature 1**"
   ]
  },
  {
   "cell_type": "code",
   "execution_count": 2,
   "id": "9b2dcc13-c75e-467e-8314-492fd761e322",
   "metadata": {},
   "outputs": [],
   "source": [
    "def compare_job_posting(job_description, client, role_stats):\n",
    "    output = {}\n",
    "    for key in  [\"salary\", \"education\", \"experience\", \"num_skills\", \"num_responsibilities\", \"num_benefits\", \"education\"]:\n",
    "        output[key] = None\n",
    "        \n",
    "    format = '''\n",
    "    {\n",
    "     \"role\": \"job role\"\n",
    "     \"salary\": 100000,\n",
    "     \"education\": \"BS\",\n",
    "     \"experience\": 5,\n",
    "     \"num_skills\": 5,\n",
    "     \"num_responsibilities\": 5,\n",
    "     \"num_benefits\": 5\n",
    "    }\n",
    "    '''\n",
    "    description = (\"where role is the job position or title, \"\n",
    "                   \"salary is the estimated salary in dollars, \"\n",
    "                   \"ed is the required education, \"\n",
    "                   \"exp is the desired years of experience, \"\n",
    "                   \"num_skills is number of skills listed, \"\n",
    "                   \"num_responsibilities is the number of responsibilities listed, \"\n",
    "                   \"and num_benefits is the number of benefits listed.  \"\n",
    "                   \"If something is not provided, put a 'null' instead.  \"\n",
    "                   \"Do not include any delimiters or special characters \"\n",
    "                   \"other than what is needed to load this JSON string into Python.\")\n",
    "    \n",
    "    is_json = False\n",
    "    attempts = 0\n",
    "    while not is_json:\n",
    "        prompt = \"Based off this job description:\\n\" + job_description + \\\n",
    "        \"\\nCan you give me a JSON object in this format with this information:\\n\" + format + description\n",
    "        response = client.chat.completions.create(\n",
    "            messages = [{\"role\": \"user\", \"content\": prompt}],\n",
    "            model = \"gpt-3.5-turbo\"\n",
    "        )\n",
    "\n",
    "        # make sure we don't query too many times\n",
    "        attempts += 1\n",
    "        if attempts >= 3:\n",
    "            return output\n",
    "            \n",
    "        # keep looping until we get a valid JSON format\n",
    "        try:\n",
    "            parsed_info = json.loads(response.choices[0].message.content)\n",
    "            role = parsed_info[\"role\"]\n",
    "            is_json = True\n",
    "        except:\n",
    "            pass\n",
    "\n",
    "    prompt = \"Here is a list of job roles: \\n\" + str(list(role_stats.keys())) + f\"\\nCan you give me only one role from that list which is most similar to '{parsed_info['role']}'?\"\n",
    "    response = client.chat.completions.create(\n",
    "        messages = [{\"role\": \"user\", \"content\": prompt}],\n",
    "        model = \"gpt-3.5-turbo\"\n",
    "    )\n",
    "\n",
    "    # every so often AI will return a role that's not actually in the list\n",
    "    # if this is the case, find the most similar role in the list to the returned role using cosine similarity\n",
    "    ratios = []\n",
    "    for role in list(role_stats.keys()):\n",
    "        ratios.append(td.cosine(response.choices[0].message.content.lower().strip(), role.lower().strip()))\n",
    "    stats = role_stats[list(role_stats.keys())[np.argmax(ratios)]]\n",
    "\n",
    "    tol = .1    \n",
    "    for key in [\"salary\", \"education\", \"experience\", \"num_skills\", \"num_responsibilities\", \"num_benefits\"]:\n",
    "        if key not in parsed_info.keys():\n",
    "            output[key] = None\n",
    "            \n",
    "        if isinstance(parsed_info[key], numbers.Number):\n",
    "            if parsed_info[key] > (1 + tol) * stats[key]:\n",
    "                output[key] = \"above\"\n",
    "            elif parsed_info[key] < (1 - tol) * stats[key]:\n",
    "                output[key] = \"below\"\n",
    "            else:\n",
    "                output[key] = \"average\"\n",
    "    \n",
    "    if type(parsed_info[\"education\"]) == str:\n",
    "        if parsed_info[\"education\"][0] == \"B\":\n",
    "            ed = 1\n",
    "        if parsed_info[\"education\"][0] == \"M\":\n",
    "            ed = 2\n",
    "        if parsed_info[\"education\"][0] == \"P\":\n",
    "            ed = 3\n",
    "        else:\n",
    "            ed = 0\n",
    "        if ed > (1 + tol) * stats[\"education\"]:\n",
    "            output[\"education\"] = \"above\"\n",
    "        elif ed < (1 - tol) * stats[\"education\"]:\n",
    "            output[\"education\"] = \"below\"\n",
    "        else:\n",
    "            output[\"education\"] = \"average\"\n",
    "\n",
    "    return output\n",
    "\n",
    "def translate_output(output):\n",
    "    description = (\"where salary is whether or not it is above or below average, \"\n",
    "                   \"education is whether or not it is above or below average, \"\n",
    "                   \"experience is whether or not it is above or below average, \"\n",
    "                   \"num_skills is whether or not it is above or below average, \"\n",
    "                   \"num_responsibilities is whether or not it is above or below average, \"\n",
    "                   \"and num_benefits is whether or not it is above or below average. \"\n",
    "                   \"If something is 'None', it means no information could be found for that attribute.  \")\n",
    "    prompt = \"Here is a raw JSON output object: \\n\" + str(output) + \"\\n\" + description + \\\n",
    "    \"Can you translate this object into a more readable format, intended for a user that wants to compare this job to other similar jobs?\"\n",
    "    response = client.chat.completions.create(\n",
    "        messages = [{\"role\": \"user\", \"content\": prompt}],\n",
    "        model = \"gpt-3.5-turbo\"\n",
    "    )\n",
    "\n",
    "    return response.choices[0].message.content"
   ]
  },
  {
   "cell_type": "code",
   "execution_count": 3,
   "id": "366412fb-dc22-409f-8c31-b5da7888e019",
   "metadata": {},
   "outputs": [
    {
     "name": "stdout",
     "output_type": "stream",
     "text": [
      "-- Assistant --\n",
      "Please paste the job description here: \n",
      "\n",
      "-- User --\n"
     ]
    },
    {
     "name": "stdin",
     "output_type": "stream",
     "text": [
      " Software Developer - AI Trainer (Contract)- job post DataAnnotation 4.4out of 5 New York, NY•Remote From $40 an hour - Contract You must create an Indeed account before continuing to the company website to apply Profile insights Find out how your skills align with the job description Skills  Do you have experience in AI? Education  Do you have a Bachelor's degree? &nbsp; Job details Here’s how the job details align with your profile. Pay From $40 an hour Job type Contract &nbsp; Benefits Pulled from the full job description Work from home &nbsp; Full job description We are looking for proficient programmers to join our team to train our AI chatbots to code. You will work with the chatbots that we are building in order to measure their progress, as well as write and evaluate code.  In this role you will need to be proficient in at least one programming language and able to solve coding problems (think LeetCode, HackerRank, etc). For each coding problem, you must be able to explain how your solution solves the problem.  Benefits:  This is a full-time or part-time REMOTE position You’ll be able to choose which projects you want to work on You can work on your own schedule Projects are paid hourly, with bonuses on high-quality and high-volume work Responsibilities:  Come up with diverse problems and solutions for a coding chatbot Write high-quality answers and code snippets Evaluate code quality produced by AI models for correctness and performance Qualifications:  Fluency in English Proficient in at least one programming language Detail-oriented Excellent writing and grammar skills A bachelor's degree (completed or in progress) Note: Payment is made via PayPal. We will never ask for any money from you. PayPal will handle any currency conversions from USD. This job is only available to those in the US, UK, Ireland, Canada, Australia, or New Zealand. Those located outside of these countries will not see work or assessments available on our site at this time.  Job Type: Contract  Pay: From $40.00 per hour  Expected hours: 1 – 40 per week  Benefits:  Work from home Location:  New York, NY (Required) Work Location: Remote\n"
     ]
    },
    {
     "name": "stdout",
     "output_type": "stream",
     "text": [
      "\n",
      "-- Assistant --\n",
      "This job has a salary below average, education below average, no information on experience, number of skills below average, number of responsibilities above average, and number of benefits below average. This information can be used to compare this job to other similar jobs in terms of salary, education level, number of skills, responsibilities, and benefits offered.\n"
     ]
    }
   ],
   "source": [
    "with open(\"../outputs/role_stats.json\") as f:\n",
    "    role_stats = json.load(f)\n",
    "    \n",
    "client = OpenAI(api_key = os.getenv(\"OPENAI_API_KEY\"))\n",
    "\n",
    "print(\"-- Assistant --\")\n",
    "print(\"Please paste the job description here: \\n\")\n",
    "print(\"-- User --\")\n",
    "job_description = input()\n",
    "output = compare_job_posting(job_description, client, role_stats)\n",
    "response = translate_output(output)\n",
    "print(\"\\n-- Assistant --\")\n",
    "print(response)"
   ]
  },
  {
   "cell_type": "markdown",
   "id": "60ee4eb9-4fa1-4027-991f-b66f6dbb8936",
   "metadata": {},
   "source": [
    "# **Feature 2**"
   ]
  },
  {
   "cell_type": "code",
   "execution_count": 4,
   "id": "6f7757c7-9680-4869-b9c3-01e3e905d2d5",
   "metadata": {},
   "outputs": [],
   "source": [
    "def list_job_skills(role_req, client, role_skills):\n",
    "    skills = []\n",
    "\n",
    "    prompt = (\"Here is a list of job roles: \\n\" + str(list(role_skills.keys())) + f\"\\nCan you give me only one role from that list which is most similar to this user request: '{role_req}'?  \"\n",
    "             \"Only return the name of the role, nothing else.\")\n",
    "    response = client.chat.completions.create(\n",
    "        messages = [{\"role\": \"user\", \"content\": prompt}],\n",
    "        model = \"gpt-3.5-turbo\"\n",
    "    )\n",
    "\n",
    "    # every so often AI will return a role that's not actually in the list\n",
    "    # if this is the case, find the most similar role in the list to the returned role using cosine similarity\n",
    "    ratios = []\n",
    "    for role in list(role_skills.keys()):\n",
    "        ratios.append(td.cosine(response.choices[0].message.content.lower().strip(), role.lower().strip()))\n",
    "    skills = role_skills[list(role_skills.keys())[np.argmax(ratios)]]\n",
    "\n",
    "    return skills\n",
    "\n",
    "def translate_output(output):\n",
    "    prompt = \"Here is a list of skills for a specific job role: \\n\" + str(output) + \\\n",
    "    \"Can you translate this list into a more readable format, intended for a user that wants to find out what skills are required for this certain job role?  Feel free to expand a little as you see fit.\"\n",
    "    response = client.chat.completions.create(\n",
    "        messages = [{\"role\": \"user\", \"content\": prompt}],\n",
    "        model = \"gpt-3.5-turbo\"\n",
    "    )\n",
    "\n",
    "    return response.choices[0].message.content"
   ]
  },
  {
   "cell_type": "code",
   "execution_count": 5,
   "id": "31795a51-d5bb-448c-953d-bb62adfd67f8",
   "metadata": {},
   "outputs": [
    {
     "name": "stdout",
     "output_type": "stream",
     "text": [
      "-- Assistant --\n",
      "What job role are you looking for?\n",
      "\n",
      "-- User --\n"
     ]
    },
    {
     "name": "stdin",
     "output_type": "stream",
     "text": [
      " software developer\n"
     ]
    },
    {
     "name": "stdout",
     "output_type": "stream",
     "text": [
      "\n",
      "-- Assistant --\n",
      "Skills required for this job role include:\n",
      "1. Frontend and Backend Development \n",
      "2. Backend Development \n",
      "3. Database Integration \n",
      "4. API Knowledge \n",
      "\n",
      "Candidates should have a strong understanding of both frontend and backend development processes, with a focus on backend development specifically. Database integration skills are essential for managing data efficiently, and a good grasp of APIs is necessary for seamless communication between different systems.\n"
     ]
    }
   ],
   "source": [
    "with open(\"../outputs/role_skills.json\") as f:\n",
    "    role_skills = json.load(f)\n",
    "\n",
    "client = OpenAI(api_key = os.getenv(\"OPENAI_API_KEY\"))\n",
    "\n",
    "print(\"-- Assistant --\")\n",
    "print(\"What job role are you looking for?\\n\")\n",
    "print(\"-- User --\")\n",
    "role = input()\n",
    "output = list_job_skills(role, client, role_skills)\n",
    "response = translate_output(output)\n",
    "print(\"\\n-- Assistant --\")\n",
    "print(response)"
   ]
  },
  {
   "cell_type": "markdown",
   "id": "bf51d373-24b9-416c-a55f-bae44087f988",
   "metadata": {},
   "source": [
    "# **Feature 3**"
   ]
  },
  {
   "cell_type": "code",
   "execution_count": 6,
   "id": "0046199e-9bf1-4537-826d-fe0b0d98b924",
   "metadata": {},
   "outputs": [],
   "source": [
    "def get_relevant_jobs(user_request, client, role_stats, role_skills):\n",
    "    top_roles = []\n",
    "    \n",
    "    format = '''\n",
    "    {\n",
    "     \"skills\": [\"skill 1\", \"skill 2\"]\n",
    "     \"salary\": 100000,\n",
    "    }\n",
    "    '''\n",
    "    description = (\"where skills is the skills that the user has said they have, \"\n",
    "                   \"and salary is their desired salary in dollars.  \"\n",
    "                   \"If something is not provided, put a 'null' instead.  \"\n",
    "                   \"Do not include any delimiters or special characters \"\n",
    "                   \"other than what is needed to load this JSON string into Python.\")\n",
    "    \n",
    "    is_json = False\n",
    "    attempts = 0\n",
    "    while not is_json:\n",
    "        prompt = \"Based off this description of a user's desires in a job they are searching for:\\n\" + user_request + \\\n",
    "        \"\\nCan you give me a JSON object in this format with this information:\\n\" + format + description\n",
    "        response = client.chat.completions.create(\n",
    "            messages = [{\"role\": \"user\", \"content\": prompt}],\n",
    "            model = \"gpt-3.5-turbo\"\n",
    "        )\n",
    "\n",
    "        # make sure we don't query too many times\n",
    "        attempts += 1\n",
    "        if attempts >= 3:\n",
    "            return output\n",
    "            \n",
    "        # keep looping until we get a valid JSON format\n",
    "        try:\n",
    "            parsed_info = json.loads(response.choices[0].message.content)\n",
    "            is_json = True\n",
    "        except:\n",
    "            pass\n",
    "\n",
    "    satisfy_salary = []\n",
    "    if isinstance(parsed_info[\"salary\"], numbers.Number):\n",
    "        for role in role_stats.keys():\n",
    "            if role_stats[role][\"salary\"] >= parsed_info[\"salary\"]:\n",
    "                satisfy_salary.append(role)\n",
    "    \n",
    "    ratios = []\n",
    "    for role in satisfy_salary:\n",
    "        similarities = []\n",
    "        for role_skill in role_skills[role]:\n",
    "            max_sim = 0\n",
    "            for user_skill in parsed_info[\"skills\"]:\n",
    "                dist = td.cosine(role_skill.lower().strip(), user_skill.lower().strip())\n",
    "                if dist > max_sim:\n",
    "                    max_sim = dist\n",
    "            similarities.append(max_sim)\n",
    "        ratios.append(len([s for s in similarities if s > .75]) / len(similarities))\n",
    "    \n",
    "    top_roles = []\n",
    "    indices = np.array(ratios).argsort()[-5:][::-1]\n",
    "    for i in indices:\n",
    "        if ratios[i] > 0:\n",
    "            top_roles.append(satisfy_salary[i])\n",
    "\n",
    "    return top_roles\n",
    "\n",
    "def translate_output(output):\n",
    "    if len(output) == 0:\n",
    "        return \"Try changing your search criteria a little bit.  I couldn't find any suitable jobs based off the salary and skills you gave me.\"\n",
    "        \n",
    "    prompt = \"Here is a list of job roles that fit the user based on a set of criteria: \\n\" + str(output) + \\\n",
    "    \"Can you translate this list into a more readable format, intended for a user that wants to find what jobs are suitable for them based off their desired salary and the skills they possess?  \" + \\\n",
    "    \"Feel free to expand a little as you see fit.\"\n",
    "    response = client.chat.completions.create(\n",
    "        messages = [{\"role\": \"user\", \"content\": prompt}],\n",
    "        model = \"gpt-3.5-turbo\"\n",
    "    )\n",
    "\n",
    "    return response.choices[0].message.content"
   ]
  },
  {
   "cell_type": "code",
   "execution_count": 7,
   "id": "af21b813-d4f3-4c91-8f47-4ae329182a1f",
   "metadata": {},
   "outputs": [
    {
     "name": "stdout",
     "output_type": "stream",
     "text": [
      "-- Assistant --\n",
      "Tell me about yourself and what you're looking for in a job.  What sort of salary are you looking for?  What skills do you possess right now?\n",
      "\n",
      "-- User --\n"
     ]
    },
    {
     "name": "stdin",
     "output_type": "stream",
     "text": [
      " I want a salary of at least 80K.  I know a lot about machine learning, and also can do some software development.  I've used html, python, java, and javascript, and I also know sql.\n"
     ]
    },
    {
     "name": "stdout",
     "output_type": "stream",
     "text": [
      "\n",
      "-- Assistant --\n",
      "Based on your desired salary and skills, the following job roles may be suitable for you:\n",
      "\n",
      "1. Human Resources Director: This role involves overseeing all aspects of human resources, including recruitment, training, and employee relations. It requires strong leadership and communication skills, as well as a deep understanding of labor laws and regulations. The salary for this position is generally high, reflecting the level of responsibility involved.\n",
      "\n",
      "2. Mechanical Design Engineer: As a mechanical design engineer, you will be responsible for creating and testing new products and equipment. This role requires strong analytical and problem-solving skills, as well as proficiency in computer-aided design (CAD) software. The salary for this position is typically competitive, reflecting the demand for skilled engineers in the industry.\n",
      "\n",
      "3. Sales Manager: Sales managers are responsible for leading and motivating a team of sales representatives to meet and exceed targets. This role requires excellent communication and negotiation skills, as well as a strong understanding of sales techniques and strategies. The salary for this position can vary depending on the industry and company, but it is often lucrative for top performers.\n",
      "\n",
      "4. Java Backend Developer: Java backend developers are responsible for designing, implementing, and maintaining the backend systems of web applications. This role requires expert knowledge of Java programming and database management, as well as experience working with frameworks like Spring and Hibernate. The salary for this position is generally high, reflecting the demand for skilled developers in the tech industry.\n",
      "\n",
      "5. Art Education Coordinator: As an art education coordinator, you will be responsible for developing and implementing art education programs for schools, museums, or community organizations. This role requires strong organizational and communication skills, as well as a passion for art and education. The salary for this position can vary depending on the organization and location, but it is often fulfilling for those who are passionate about arts and education. \n",
      "\n",
      "We hope this list helps you in finding a job that aligns with your salary expectations and skills. Good luck in your job search!\n"
     ]
    }
   ],
   "source": [
    "with open(\"../outputs/role_stats.json\") as f:\n",
    "    role_stats = json.load(f)\n",
    "with open(\"../outputs/role_skills.json\") as f:\n",
    "    role_skills = json.load(f)\n",
    "\n",
    "client = OpenAI(api_key = os.getenv(\"OPENAI_API_KEY\"))\n",
    "\n",
    "print(\"-- Assistant --\")\n",
    "print(\"Tell me about yourself and what you're looking for in a job.  What sort of salary are you looking for?  What skills do you possess right now?\\n\")\n",
    "print(\"-- User --\")\n",
    "role = input()\n",
    "output = get_relevant_jobs(role, client, role_stats, role_skills)\n",
    "response = translate_output(output)\n",
    "print(\"\\n-- Assistant --\")\n",
    "print(response)"
   ]
  },
  {
   "cell_type": "code",
   "execution_count": null,
   "id": "38b1c428-556b-4b5c-a4a0-52a22f9781dd",
   "metadata": {},
   "outputs": [],
   "source": []
  }
 ],
 "metadata": {
  "kernelspec": {
   "display_name": "Python [conda env:bigdata]",
   "language": "python",
   "name": "conda-env-bigdata-py"
  },
  "language_info": {
   "codemirror_mode": {
    "name": "ipython",
    "version": 3
   },
   "file_extension": ".py",
   "mimetype": "text/x-python",
   "name": "python",
   "nbconvert_exporter": "python",
   "pygments_lexer": "ipython3",
   "version": "3.10.13"
  }
 },
 "nbformat": 4,
 "nbformat_minor": 5
}
