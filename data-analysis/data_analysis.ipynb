{
 "cells": [
  {
   "cell_type": "code",
   "execution_count": null,
   "id": "be96bc97-0315-4172-90b4-0bce451c95e9",
   "metadata": {
    "editable": true,
    "slideshow": {
     "slide_type": ""
    },
    "tags": []
   },
   "outputs": [],
   "source": [
    "import os\n",
    "import pyspark\n",
    "conf = pyspark.SparkConf()\n",
    "conf.set(\"spark.ui.proxyBase\", \"/user/\" + os.environ[\"JUPYTERHUB_USER\"] + \"/proxy/4041\")\n",
    "conf.set(\"spark.driver.memory\", \"16g\")\n",
    "\n",
    "sc = pyspark.SparkContext(conf = conf)\n",
    "spark = pyspark.SQLContext.getOrCreate(sc)"
   ]
  },
  {
   "cell_type": "code",
   "execution_count": 66,
   "id": "2aa316c2-0da0-4c4d-ad49-0032985f0465",
   "metadata": {},
   "outputs": [],
   "source": [
    "import re\n",
    "import statistics\n",
    "from pyspark.sql.functions import udf, col\n",
    "import pyspark.sql.types as types"
   ]
  },
  {
   "cell_type": "markdown",
   "id": "279f8b57-c129-4a67-b703-b36732758d52",
   "metadata": {
    "editable": true,
    "slideshow": {
     "slide_type": ""
    },
    "tags": []
   },
   "source": [
    "# **Dataset**\n",
    "\n",
    "Download the dataset from here - https://www.kaggle.com/datasets/ravindrasinghrana/job-description-dataset/data and place the unzipped `.csv` in the root directory.\n",
    "\n",
    "Keep in mind this dataset has been synthetically generated so the aggregates and insights we extract are very unrealistic.\n",
    "\n",
    "Example:\n",
    "| Job Id | Experience | Qualifications | Salary Range | location | Country | latitude | longitude | Work Type | Company Size | Job Posting Date | Preference | Contact Person | Contact | Job Title | Role | Job Portal | Job Description | Benefits | skills | Responsibilities | Company | Company Profile |\n",
    "| - | - | - | - | - | - | - | - | - | - | - | - | - | - | - | - | - | - | - | - | - | - | - |\n",
    "| 398454096642776 | 2 to 12 Years | BCA | $56K-$116K | Ashgabat | Turkmenistan | 38.9697 | 59.5563 | Intern | 100340 | 2022-12-19 | Female | Francisco Larsen | 461-509-4216 | Web Developer | Frontend Web Developer | Idealist | Frontend Web Developers design and implement user interfaces for websites, ensuring they are visuall... | {'Health Insurance, Retirement Plans, Paid Time Off (PTO), Flexible Work Arrangements, Employee Assi... | HTML, CSS, JavaScript Frontend frameworks (e.g., React, Angular) User experience (UX) | Design and code user interfaces for websites, ensuring a seamless and visually appealing user experi... | PNC Financial Services Group | {\"Sector\":\"Financial Services\",\"Industry\":\"Commercial Banks\",\"City\":\"Pittsburgh\",\"State\":\"Pennsylvan... |"
   ]
  },
  {
   "cell_type": "code",
   "execution_count": 5,
   "id": "c1502e8c-3961-4a83-a603-00acf4436d15",
   "metadata": {},
   "outputs": [
    {
     "name": "stderr",
     "output_type": "stream",
     "text": [
      "                                                                                \r"
     ]
    },
    {
     "data": {
      "text/plain": [
       "1615940"
      ]
     },
     "execution_count": 5,
     "metadata": {},
     "output_type": "execute_result"
    }
   ],
   "source": [
    "jobs = spark.read.option(\"header\", True).option(\"inferSchema\", True).csv(\"../job_descriptions.csv\")\n",
    "jobs.count()"
   ]
  },
  {
   "cell_type": "code",
   "execution_count": 14,
   "id": "1ca57b3a-e09e-4f6d-a7ca-c6270a88512f",
   "metadata": {},
   "outputs": [
    {
     "name": "stderr",
     "output_type": "stream",
     "text": [
      "                                                                                \r"
     ]
    },
    {
     "data": {
      "text/html": [
       "<div>\n",
       "<style scoped>\n",
       "    .dataframe tbody tr th:only-of-type {\n",
       "        vertical-align: middle;\n",
       "    }\n",
       "\n",
       "    .dataframe tbody tr th {\n",
       "        vertical-align: top;\n",
       "    }\n",
       "\n",
       "    .dataframe thead th {\n",
       "        text-align: right;\n",
       "    }\n",
       "</style>\n",
       "<table border=\"1\" class=\"dataframe\">\n",
       "  <thead>\n",
       "    <tr style=\"text-align: right;\">\n",
       "      <th></th>\n",
       "      <th>Role</th>\n",
       "      <th>count</th>\n",
       "    </tr>\n",
       "  </thead>\n",
       "  <tbody>\n",
       "    <tr>\n",
       "      <th>0</th>\n",
       "      <td>API Developer</td>\n",
       "      <td>3483</td>\n",
       "    </tr>\n",
       "    <tr>\n",
       "      <th>1</th>\n",
       "      <td>Accessibility Developer</td>\n",
       "      <td>3513</td>\n",
       "    </tr>\n",
       "    <tr>\n",
       "      <th>2</th>\n",
       "      <td>Account Executive</td>\n",
       "      <td>7063</td>\n",
       "    </tr>\n",
       "    <tr>\n",
       "      <th>3</th>\n",
       "      <td>Account Manager</td>\n",
       "      <td>3474</td>\n",
       "    </tr>\n",
       "    <tr>\n",
       "      <th>4</th>\n",
       "      <td>Account Strategist</td>\n",
       "      <td>3460</td>\n",
       "    </tr>\n",
       "    <tr>\n",
       "      <th>...</th>\n",
       "      <td>...</td>\n",
       "      <td>...</td>\n",
       "    </tr>\n",
       "    <tr>\n",
       "      <th>371</th>\n",
       "      <td>Wedding Consultant</td>\n",
       "      <td>3492</td>\n",
       "    </tr>\n",
       "    <tr>\n",
       "      <th>372</th>\n",
       "      <td>Wedding Coordinator</td>\n",
       "      <td>3552</td>\n",
       "    </tr>\n",
       "    <tr>\n",
       "      <th>373</th>\n",
       "      <td>Wedding Designer</td>\n",
       "      <td>3353</td>\n",
       "    </tr>\n",
       "    <tr>\n",
       "      <th>374</th>\n",
       "      <td>Wedding Planner</td>\n",
       "      <td>6902</td>\n",
       "    </tr>\n",
       "    <tr>\n",
       "      <th>375</th>\n",
       "      <td>Wireless Network Engineer</td>\n",
       "      <td>3458</td>\n",
       "    </tr>\n",
       "  </tbody>\n",
       "</table>\n",
       "<p>376 rows × 2 columns</p>\n",
       "</div>"
      ],
      "text/plain": [
       "                          Role  count\n",
       "0                API Developer   3483\n",
       "1      Accessibility Developer   3513\n",
       "2            Account Executive   7063\n",
       "3              Account Manager   3474\n",
       "4           Account Strategist   3460\n",
       "..                         ...    ...\n",
       "371         Wedding Consultant   3492\n",
       "372        Wedding Coordinator   3552\n",
       "373           Wedding Designer   3353\n",
       "374            Wedding Planner   6902\n",
       "375  Wireless Network Engineer   3458\n",
       "\n",
       "[376 rows x 2 columns]"
      ]
     },
     "execution_count": 14,
     "metadata": {},
     "output_type": "execute_result"
    }
   ],
   "source": [
    "jobs.groupBy(\"Role\").count().sort(\"Role\").toPandas()"
   ]
  },
  {
   "cell_type": "markdown",
   "id": "9aa39f49-5491-4d46-8920-11d0ec8676db",
   "metadata": {
    "editable": true,
    "slideshow": {
     "slide_type": ""
    },
    "tags": []
   },
   "source": [
    "# **Feature 1**\n",
    "\n",
    "Comparison of job to other jobs of the same position.\n",
    "\n",
    "Example: I am looking for a new \"software engineer\" position.  When I look at a job posting, I'd like to see how this posting compares to other \"software engineer\" positions.  For example, \"this posting has a lower salary than other postings of similar positions, and requires more qualifications\n",
    "\n",
    "Input:\n",
    "```json\n",
    "{\n",
    "    \"id\": 398454096642776,\n",
    "}\n",
    "```\n",
    "\n",
    "Output:\n",
    "```json\n",
    "{\n",
    "    \"role\": \"Frontend Web Developer\",\n",
    "    \"salary\": \"less than average\",\n",
    "    \"education\": \"less than average\",\n",
    "    \"experience\": \"less than average\",\n",
    "    \"skills\": \"greater than average\",\n",
    "    \"responsibilities\": \"greater than average\",\n",
    "    \"benefits\": \"greater than average\",\n",
    "}\n",
    "```"
   ]
  },
  {
   "cell_type": "code",
   "execution_count": 71,
   "id": "aa30c779-8c74-47a2-839c-394ef292d816",
   "metadata": {},
   "outputs": [
    {
     "data": {
      "text/html": [
       "<div>\n",
       "<style scoped>\n",
       "    .dataframe tbody tr th:only-of-type {\n",
       "        vertical-align: middle;\n",
       "    }\n",
       "\n",
       "    .dataframe tbody tr th {\n",
       "        vertical-align: top;\n",
       "    }\n",
       "\n",
       "    .dataframe thead th {\n",
       "        text-align: right;\n",
       "    }\n",
       "</style>\n",
       "<table border=\"1\" class=\"dataframe\">\n",
       "  <thead>\n",
       "    <tr style=\"text-align: right;\">\n",
       "      <th></th>\n",
       "      <th>Role</th>\n",
       "      <th>avg(Salary)</th>\n",
       "    </tr>\n",
       "  </thead>\n",
       "  <tbody>\n",
       "    <tr>\n",
       "      <th>0</th>\n",
       "      <td>API Developer</td>\n",
       "      <td>82636.602452</td>\n",
       "    </tr>\n",
       "    <tr>\n",
       "      <th>1</th>\n",
       "      <td>Accessibility Developer</td>\n",
       "      <td>82385.600455</td>\n",
       "    </tr>\n",
       "    <tr>\n",
       "      <th>2</th>\n",
       "      <td>Account Executive</td>\n",
       "      <td>82449.157303</td>\n",
       "    </tr>\n",
       "    <tr>\n",
       "      <th>3</th>\n",
       "      <td>Account Manager</td>\n",
       "      <td>82809.915014</td>\n",
       "    </tr>\n",
       "    <tr>\n",
       "      <th>4</th>\n",
       "      <td>Account Strategist</td>\n",
       "      <td>82440.628638</td>\n",
       "    </tr>\n",
       "    <tr>\n",
       "      <th>...</th>\n",
       "      <td>...</td>\n",
       "      <td>...</td>\n",
       "    </tr>\n",
       "    <tr>\n",
       "      <th>371</th>\n",
       "      <td>Wedding Consultant</td>\n",
       "      <td>82349.743882</td>\n",
       "    </tr>\n",
       "    <tr>\n",
       "      <th>372</th>\n",
       "      <td>Wedding Coordinator</td>\n",
       "      <td>82566.101695</td>\n",
       "    </tr>\n",
       "    <tr>\n",
       "      <th>373</th>\n",
       "      <td>Wedding Designer</td>\n",
       "      <td>82452.353283</td>\n",
       "    </tr>\n",
       "    <tr>\n",
       "      <th>374</th>\n",
       "      <td>Wedding Planner</td>\n",
       "      <td>82525.977817</td>\n",
       "    </tr>\n",
       "    <tr>\n",
       "      <th>375</th>\n",
       "      <td>Wireless Network Engineer</td>\n",
       "      <td>82669.014085</td>\n",
       "    </tr>\n",
       "  </tbody>\n",
       "</table>\n",
       "<p>376 rows × 2 columns</p>\n",
       "</div>"
      ],
      "text/plain": [
       "                          Role   avg(Salary)\n",
       "0                API Developer  82636.602452\n",
       "1      Accessibility Developer  82385.600455\n",
       "2            Account Executive  82449.157303\n",
       "3              Account Manager  82809.915014\n",
       "4           Account Strategist  82440.628638\n",
       "..                         ...           ...\n",
       "371         Wedding Consultant  82349.743882\n",
       "372        Wedding Coordinator  82566.101695\n",
       "373           Wedding Designer  82452.353283\n",
       "374            Wedding Planner  82525.977817\n",
       "375  Wireless Network Engineer  82669.014085\n",
       "\n",
       "[376 rows x 2 columns]"
      ]
     },
     "execution_count": 71,
     "metadata": {},
     "output_type": "execute_result"
    }
   ],
   "source": [
    "def get_avg_salary(salary_str):\n",
    "    range = [int(n) for n in re.findall(r\"\\d+\", salary_str)]\n",
    "    return statistics.mean(range) * 1000\n",
    "\n",
    "udf_avg_salary = udf(get_avg_salary, types.FloatType())\n",
    "\n",
    "salaries = jobs.withColumn(\"Salary\", udf_avg_salary(col(\"Salary Range\")))\\\n",
    ".groupBy(\"Role\").mean(\"Salary\").sort(\"Role\").toPandas()\n",
    "salaries"
   ]
  },
  {
   "cell_type": "code",
   "execution_count": 73,
   "id": "d7f41b2c-23bf-4add-a2bd-a29315791e92",
   "metadata": {},
   "outputs": [
    {
     "data": {
      "text/html": [
       "<div>\n",
       "<style scoped>\n",
       "    .dataframe tbody tr th:only-of-type {\n",
       "        vertical-align: middle;\n",
       "    }\n",
       "\n",
       "    .dataframe tbody tr th {\n",
       "        vertical-align: top;\n",
       "    }\n",
       "\n",
       "    .dataframe thead th {\n",
       "        text-align: right;\n",
       "    }\n",
       "</style>\n",
       "<table border=\"1\" class=\"dataframe\">\n",
       "  <thead>\n",
       "    <tr style=\"text-align: right;\">\n",
       "      <th></th>\n",
       "      <th>Role</th>\n",
       "      <th>avg(Years Experience)</th>\n",
       "    </tr>\n",
       "  </thead>\n",
       "  <tbody>\n",
       "    <tr>\n",
       "      <th>0</th>\n",
       "      <td>API Developer</td>\n",
       "      <td>7.003116</td>\n",
       "    </tr>\n",
       "    <tr>\n",
       "      <th>1</th>\n",
       "      <td>Accessibility Developer</td>\n",
       "      <td>7.026810</td>\n",
       "    </tr>\n",
       "    <tr>\n",
       "      <th>2</th>\n",
       "      <td>Account Executive</td>\n",
       "      <td>6.961190</td>\n",
       "    </tr>\n",
       "    <tr>\n",
       "      <th>3</th>\n",
       "      <td>Account Manager</td>\n",
       "      <td>6.964162</td>\n",
       "    </tr>\n",
       "    <tr>\n",
       "      <th>4</th>\n",
       "      <td>Account Strategist</td>\n",
       "      <td>7.009029</td>\n",
       "    </tr>\n",
       "    <tr>\n",
       "      <th>...</th>\n",
       "      <td>...</td>\n",
       "      <td>...</td>\n",
       "    </tr>\n",
       "    <tr>\n",
       "      <th>371</th>\n",
       "      <td>Wedding Consultant</td>\n",
       "      <td>6.962441</td>\n",
       "    </tr>\n",
       "    <tr>\n",
       "      <th>372</th>\n",
       "      <td>Wedding Coordinator</td>\n",
       "      <td>6.971982</td>\n",
       "    </tr>\n",
       "    <tr>\n",
       "      <th>373</th>\n",
       "      <td>Wedding Designer</td>\n",
       "      <td>7.065859</td>\n",
       "    </tr>\n",
       "    <tr>\n",
       "      <th>374</th>\n",
       "      <td>Wedding Planner</td>\n",
       "      <td>7.018487</td>\n",
       "    </tr>\n",
       "    <tr>\n",
       "      <th>375</th>\n",
       "      <td>Wireless Network Engineer</td>\n",
       "      <td>6.991419</td>\n",
       "    </tr>\n",
       "  </tbody>\n",
       "</table>\n",
       "<p>376 rows × 2 columns</p>\n",
       "</div>"
      ],
      "text/plain": [
       "                          Role  avg(Years Experience)\n",
       "0                API Developer               7.003116\n",
       "1      Accessibility Developer               7.026810\n",
       "2            Account Executive               6.961190\n",
       "3              Account Manager               6.964162\n",
       "4           Account Strategist               7.009029\n",
       "..                         ...                    ...\n",
       "371         Wedding Consultant               6.962441\n",
       "372        Wedding Coordinator               6.971982\n",
       "373           Wedding Designer               7.065859\n",
       "374            Wedding Planner               7.018487\n",
       "375  Wireless Network Engineer               6.991419\n",
       "\n",
       "[376 rows x 2 columns]"
      ]
     },
     "execution_count": 73,
     "metadata": {},
     "output_type": "execute_result"
    }
   ],
   "source": [
    "def get_avg_exp(exp_str):\n",
    "    range = [int(n) for n in re.findall(r\"\\d+\", exp_str)]\n",
    "    return statistics.mean(range)\n",
    "\n",
    "udf_avg_exp = udf(get_avg_exp, types.FloatType())\n",
    "\n",
    "exps = jobs.withColumn(\"Years Experience\", udf_avg_exp(col(\"experience\")))\\\n",
    ".groupBy(\"Role\").mean(\"Years Experience\").sort(\"Role\").toPandas()\n",
    "exps"
   ]
  },
  {
   "cell_type": "code",
   "execution_count": 77,
   "id": "329e5d40-3cec-418f-b23c-35bdaa1bbfd3",
   "metadata": {},
   "outputs": [
    {
     "data": {
      "text/plain": [
       "['Social media platforms (e.g.',\n",
       " 'Facebook',\n",
       " 'Twitter',\n",
       " 'Instagram) Content creation and scheduling Social media analytics and insights Community engagement Paid social advertising']"
      ]
     },
     "execution_count": 77,
     "metadata": {},
     "output_type": "execute_result"
    }
   ],
   "source": [
    "skills_str = jobs.select(\"skills\").head()[\"skills\"]\n",
    "[b.strip() for b in skills_str.split(\",\")]"
   ]
  },
  {
   "cell_type": "code",
   "execution_count": 80,
   "id": "0708fb05-d3e6-424c-954e-ecda317daed4",
   "metadata": {},
   "outputs": [
    {
     "data": {
      "text/plain": [
       "['Manage and grow social media accounts, create engaging content, and interact with the online community',\n",
       " 'Develop social media content calendars and strategies',\n",
       " 'Monitor social media trends and engagement metrics',\n",
       " '']"
      ]
     },
     "execution_count": 80,
     "metadata": {},
     "output_type": "execute_result"
    }
   ],
   "source": [
    "responsibilities_str = jobs.select(\"responsibilities\").head()[\"responsibilities\"]\n",
    "[b.strip() for b in responsibilities_str.split(\".\")]"
   ]
  },
  {
   "cell_type": "code",
   "execution_count": 52,
   "id": "d469ac58-7987-462f-b225-7042702d82b3",
   "metadata": {},
   "outputs": [
    {
     "data": {
      "text/plain": [
       "['Flexible Spending Accounts (FSAs)',\n",
       " 'Relocation Assistance',\n",
       " 'Legal Assistance',\n",
       " 'Employee Recognition Programs',\n",
       " 'Financial Counseling']"
      ]
     },
     "execution_count": 52,
     "metadata": {},
     "output_type": "execute_result"
    }
   ],
   "source": [
    "benefits_str = jobs.select(\"benefits\").head()[\"benefits\"]\n",
    "[b.strip() for b in benefits_str[2:-2].split(\",\")]"
   ]
  },
  {
   "cell_type": "markdown",
   "id": "60ee4eb9-4fa1-4027-991f-b66f6dbb8936",
   "metadata": {},
   "source": [
    "# **Feature 2**\n",
    "\n",
    "What skills an applicant needs for a specific job position.\n",
    "\n",
    "Example: I am looking for a new \"software engineer\" position.  When I search for \"software engineer,\" I'd like to see a list of the most common qualifications for this position, e.g., \"Python proficiency, AWS CDK, and GitHub CI/CD.\"\n",
    "\n",
    "Input:\n",
    "```json\n",
    "{\n",
    "    \"role\": \"Frontend Web Developer\",\n",
    "}\n",
    "```\n",
    "\n",
    "Output:\n",
    "```json\n",
    "{\n",
    "    \"skills\": [\n",
    "        \"HTML\",\n",
    "        \"CSS\",\n",
    "        \"JavaScript Frontend frameworks (e.g., React, Angular)\",\n",
    "        \"User experience (UX)\",\n",
    "    ],\n",
    "}\n",
    "```"
   ]
  },
  {
   "cell_type": "code",
   "execution_count": null,
   "id": "b540d88b-20c5-4561-8efd-62b7cf047d2d",
   "metadata": {},
   "outputs": [],
   "source": []
  },
  {
   "cell_type": "markdown",
   "id": "bf51d373-24b9-416c-a55f-bae44087f988",
   "metadata": {},
   "source": [
    "# **Feature 3**\n",
    "\n",
    "Job recommendation based on user profile.\n",
    "\n",
    "Example: I enter in a list of qualifications I have (and maybe some other information such as desired salary).  I'd like to see a list of job positions that most fit my profile.\n",
    "\n",
    "Input:\n",
    "```json\n",
    "{\n",
    "    \"skills\": [\n",
    "        \"HTML\",\n",
    "        \"CSS\",\n",
    "        \"JavaScript Frontend frameworks (e.g., React, Angular)\",\n",
    "        \"User experience (UX)\",\n",
    "    ],\n",
    "    \"salary\": 100000,\n",
    "}\n",
    "```\n",
    "\n",
    "Output:\n",
    "```json\n",
    "{\n",
    "    \"roles\": [\n",
    "        \"Frontend Web Developer\",\n",
    "        \"User Interface Designer\",\n",
    "        \"Backend Developer\",\n",
    "    ],\n",
    "}\n",
    "```"
   ]
  },
  {
   "cell_type": "code",
   "execution_count": null,
   "id": "23ca0488-c245-47fd-9a20-e73c9743e01b",
   "metadata": {},
   "outputs": [],
   "source": []
  }
 ],
 "metadata": {
  "kernelspec": {
   "display_name": "Python [conda env:bigdata]",
   "language": "python",
   "name": "conda-env-bigdata-py"
  },
  "language_info": {
   "codemirror_mode": {
    "name": "ipython",
    "version": 3
   },
   "file_extension": ".py",
   "mimetype": "text/x-python",
   "name": "python",
   "nbconvert_exporter": "python",
   "pygments_lexer": "ipython3",
   "version": "3.10.13"
  }
 },
 "nbformat": 4,
 "nbformat_minor": 5
}
