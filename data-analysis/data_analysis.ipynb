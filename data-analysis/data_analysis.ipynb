{
 "cells": [
  {
   "cell_type": "code",
   "execution_count": null,
   "id": "be96bc97-0315-4172-90b4-0bce451c95e9",
   "metadata": {},
   "outputs": [],
   "source": [
    "import os\n",
    "import pyspark\n",
    "conf = pyspark.SparkConf()\n",
    "conf.set(\"spark.ui.proxyBase\", \"/user/\" + os.environ[\"JUPYTERHUB_USER\"] + \"/proxy/4041\")\n",
    "conf.set(\"spark.driver.memory\", \"16g\")\n",
    "\n",
    "sc = pyspark.SparkContext(conf = conf)\n",
    "spark = pyspark.SQLContext.getOrCreate(sc)"
   ]
  },
  {
   "cell_type": "markdown",
   "id": "279f8b57-c129-4a67-b703-b36732758d52",
   "metadata": {},
   "source": [
    "# **Dataset**\n",
    "\n",
    "https://www.kaggle.com/datasets/ravindrasinghrana/job-description-dataset/data\n",
    "\n",
    "Example:\n",
    "| Job Id | Experience | Qualifications | Salary Range | location | Country | latitude | longitude | Work Type | Company Size | Job Posting Date | Preference | Contact Person | Contact | Job Title | Role | Job Portal | Job Description | Benefits | skills | Responsibilities | Company | Company Profile |\n",
    "| - | - | - | - | - | - | - | - | - | - | - | - | - | - | - | - | - | - | - | - | - | - | - |\n",
    "| 398454096642776 | 2 to 12 Years | BCA | $56K-$116K | Ashgabat | Turkmenistan | 38.9697 | 59.5563 | Intern | 100340 | 2022-12-19 | Female | Francisco Larsen | 461-509-4216 | Web Developer | Frontend Web Developer | Idealist | Frontend Web Developers design and implement user interfaces for websites, ensuring they are visuall... | {'Health Insurance, Retirement Plans, Paid Time Off (PTO), Flexible Work Arrangements, Employee Assi... | HTML, CSS, JavaScript Frontend frameworks (e.g., React, Angular) User experience (UX) | Design and code user interfaces for websites, ensuring a seamless and visually appealing user experi... | PNC Financial Services Group | {\"Sector\":\"Financial Services\",\"Industry\":\"Commercial Banks\",\"City\":\"Pittsburgh\",\"State\":\"Pennsylvan... |"
   ]
  },
  {
   "cell_type": "markdown",
   "id": "9aa39f49-5491-4d46-8920-11d0ec8676db",
   "metadata": {},
   "source": [
    "# **Feature 1**\n",
    "\n",
    "Comparison of job to other jobs of the same position.\n",
    "\n",
    "Example: I am looking for a new \"software engineer\" position.  When I look at a job posting, I'd like to see how this posting compares to other \"software engineer\" positions.  For example, \"this posting has a lower salary than other postings of similar positions, and requires more qualifications\n",
    "\n",
    "Input:\n",
    "```json\n",
    "{\n",
    "    \"id\": 398454096642776\n",
    "}\n",
    "```\n",
    "\n",
    "Output:\n",
    "```json\n",
    "{\n",
    "    \"role\": \"Frontend Web Developer\",\n",
    "    \"salary\": \"less than average\",\n",
    "    \"education\": \"less than average\",\n",
    "    \"experience\": \"less than average\",\n",
    "    \"skills\": \"greater than average\",\n",
    "    \"responsibilities\": \"greater than average\",\n",
    "    \"benefits\": \"greater than average\",\n",
    "}\n",
    "```"
   ]
  },
  {
   "cell_type": "code",
   "execution_count": null,
   "id": "5f6183f2-35b1-4077-9eae-f9a30580c839",
   "metadata": {},
   "outputs": [],
   "source": []
  },
  {
   "cell_type": "markdown",
   "id": "60ee4eb9-4fa1-4027-991f-b66f6dbb8936",
   "metadata": {},
   "source": [
    "# **Feature 2**\n",
    "\n",
    "What skills an applicant needs for a specific job position.\n",
    "\n",
    "Example: I am looking for a new \"software engineer\" position.  When I search for \"software engineer,\" I'd like to see a list of the most qualifications for this position, e.g., \"Python proficiency, AWS CDK, and GitHub CI/CD.\"\n",
    "\n",
    "Input:\n",
    "```json\n",
    "{\n",
    "    \"role\": \"Frontend Web Developer\"\n",
    "}\n",
    "```\n",
    "\n",
    "Output:\n",
    "```json\n",
    "{\n",
    "    \"skills\": [\n",
    "        \"HTML\",\n",
    "        \"CSS\",\n",
    "        \"JavaScript Frontend frameworks (e.g., React, Angular)\",\n",
    "        \"User experience (UX)\"\n",
    "    ],\n",
    "}\n",
    "```"
   ]
  },
  {
   "cell_type": "code",
   "execution_count": null,
   "id": "b540d88b-20c5-4561-8efd-62b7cf047d2d",
   "metadata": {},
   "outputs": [],
   "source": []
  },
  {
   "cell_type": "markdown",
   "id": "bf51d373-24b9-416c-a55f-bae44087f988",
   "metadata": {},
   "source": [
    "# **Feature 3**\n",
    "\n",
    "Job recommendation based on user profile.\n",
    "\n",
    "Example: I enter in a list of qualifications I have (and maybe some other information such as desired salary).  I'd like to see a list of job positions that most fit my profile.\n",
    "\n",
    "Input:\n",
    "```json\n",
    "{\n",
    "    \"skills\": [\n",
    "        \"HTML\",\n",
    "        \"CSS\",\n",
    "        \"JavaScript Frontend frameworks (e.g., React, Angular)\",\n",
    "        \"User experience (UX)\"\n",
    "    ],\n",
    "    \"salary\": 100000\n",
    "}\n",
    "```\n",
    "\n",
    "Output:\n",
    "```json\n",
    "{\n",
    "    \"roles\": [\n",
    "        \"Frontend Web Developer\",\n",
    "        \"User Interface Designer\",\n",
    "        \"Backend Developer\"\n",
    "    ]\n",
    "}\n",
    "```"
   ]
  },
  {
   "cell_type": "code",
   "execution_count": null,
   "id": "23ca0488-c245-47fd-9a20-e73c9743e01b",
   "metadata": {},
   "outputs": [],
   "source": []
  }
 ],
 "metadata": {
  "kernelspec": {
   "display_name": "Python [conda env:bigdata]",
   "language": "python",
   "name": "conda-env-bigdata-py"
  },
  "language_info": {
   "codemirror_mode": {
    "name": "ipython",
    "version": 3
   },
   "file_extension": ".py",
   "mimetype": "text/x-python",
   "name": "python",
   "nbconvert_exporter": "python",
   "pygments_lexer": "ipython3",
   "version": "3.10.13"
  }
 },
 "nbformat": 4,
 "nbformat_minor": 5
}
