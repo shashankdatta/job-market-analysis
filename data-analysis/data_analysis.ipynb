{
 "cells": [
  {
   "cell_type": "code",
   "execution_count": null,
   "id": "be96bc97-0315-4172-90b4-0bce451c95e9",
   "metadata": {},
   "outputs": [],
   "source": [
    "import os\n",
    "import pyspark\n",
    "conf = pyspark.SparkConf()\n",
    "conf.set(\"spark.ui.proxyBase\", \"/user/\" + os.environ[\"JUPYTERHUB_USER\"] + \"/proxy/4041\")\n",
    "conf.set(\"spark.driver.memory\", \"16g\")\n",
    "\n",
    "sc = pyspark.SparkContext(conf = conf)\n",
    "spark = pyspark.SQLContext.getOrCreate(sc)"
   ]
  },
  {
   "cell_type": "code",
   "execution_count": null,
   "id": "46170061-ccde-410e-a8b8-3438c1c60a4f",
   "metadata": {},
   "outputs": [],
   "source": []
  }
 ],
 "metadata": {
  "kernelspec": {
   "display_name": "Python [conda env:bigdata]",
   "language": "python",
   "name": "conda-env-bigdata-py"
  },
  "language_info": {
   "codemirror_mode": {
    "name": "ipython",
    "version": 3
   },
   "file_extension": ".py",
   "mimetype": "text/x-python",
   "name": "python",
   "nbconvert_exporter": "python",
   "pygments_lexer": "ipython3",
   "version": "3.10.13"
  }
 },
 "nbformat": 4,
 "nbformat_minor": 5
}
