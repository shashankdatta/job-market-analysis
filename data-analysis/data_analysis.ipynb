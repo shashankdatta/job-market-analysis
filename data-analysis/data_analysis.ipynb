{
 "cells": [
  {
   "cell_type": "code",
   "execution_count": null,
   "id": "be96bc97-0315-4172-90b4-0bce451c95e9",
   "metadata": {
    "editable": true,
    "slideshow": {
     "slide_type": ""
    },
    "tags": []
   },
   "outputs": [],
   "source": [
    "import os\n",
    "import pyspark\n",
    "conf = pyspark.SparkConf()\n",
    "conf.set(\"spark.ui.proxyBase\", \"/user/\" + os.environ[\"JUPYTERHUB_USER\"] + \"/proxy/4041\")\n",
    "conf.set(\"spark.driver.memory\", \"16g\")\n",
    "\n",
    "sc = pyspark.SparkContext(conf = conf)\n",
    "spark = pyspark.SQLContext.getOrCreate(sc)"
   ]
  },
  {
   "cell_type": "code",
   "execution_count": null,
   "id": "2aa316c2-0da0-4c4d-ad49-0032985f0465",
   "metadata": {},
   "outputs": [],
   "source": [
    "import re\n",
    "import statistics\n",
    "import json\n",
    "import numpy as np\n",
    "import textdistance as td\n",
    "import yake\n",
    "import sparknlp\n",
    "from sparknlp.base import DocumentAssembler, Pipeline\n",
    "from sparknlp.annotator import SentenceDetector, Tokenizer, YakeKeywordExtraction\n",
    "from pyspark.ml import Pipeline\n",
    "import pyspark.sql.functions as F\n",
    "from pyspark.sql.functions import udf, col, rank, collect_set, explode, array\n",
    "from pyspark.sql.window import Window\n",
    "import pyspark.sql.types as types"
   ]
  },
  {
   "cell_type": "markdown",
   "id": "279f8b57-c129-4a67-b703-b36732758d52",
   "metadata": {
    "editable": true,
    "slideshow": {
     "slide_type": ""
    },
    "tags": []
   },
   "source": [
    "# **Dataset**\n",
    "\n",
    "Download the dataset from here - https://www.kaggle.com/datasets/ravindrasinghrana/job-description-dataset/data and place the unzipped `.csv` in the root directory.\n",
    "\n",
    "Keep in mind this dataset has been synthetically generated so the aggregates and insights we extract are very unrealistic.\n",
    "\n",
    "Example:\n",
    "| Job Id | Experience | Qualifications | Salary Range | location | Country | latitude | longitude | Work Type | Company Size | Job Posting Date | Preference | Contact Person | Contact | Job Title | Role | Job Portal | Job Description | Benefits | skills | Responsibilities | Company | Company Profile |\n",
    "| - | - | - | - | - | - | - | - | - | - | - | - | - | - | - | - | - | - | - | - | - | - | - |\n",
    "| 398454096642776 | 2 to 12 Years | BCA | $56K-$116K | Ashgabat | Turkmenistan | 38.9697 | 59.5563 | Intern | 100340 | 2022-12-19 | Female | Francisco Larsen | 461-509-4216 | Web Developer | Frontend Web Developer | Idealist | Frontend Web Developers design and implement user interfaces for websites, ensuring they are visuall... | {'Health Insurance, Retirement Plans, Paid Time Off (PTO), Flexible Work Arrangements, Employee Assi... | HTML, CSS, JavaScript Frontend frameworks (e.g., React, Angular) User experience (UX) | Design and code user interfaces for websites, ensuring a seamless and visually appealing user experi... | PNC Financial Services Group | {\"Sector\":\"Financial Services\",\"Industry\":\"Commercial Banks\",\"City\":\"Pittsburgh\",\"State\":\"Pennsylvan... |"
   ]
  },
  {
   "cell_type": "code",
   "execution_count": 3,
   "id": "c1502e8c-3961-4a83-a603-00acf4436d15",
   "metadata": {},
   "outputs": [
    {
     "name": "stderr",
     "output_type": "stream",
     "text": [
      "                                                                                \r"
     ]
    },
    {
     "data": {
      "text/plain": [
       "1615940"
      ]
     },
     "execution_count": 3,
     "metadata": {},
     "output_type": "execute_result"
    }
   ],
   "source": [
    "jobs = spark.read.option(\"header\", True).option(\"inferSchema\", True).csv(\"../job_descriptions.csv\")\n",
    "jobs.count()"
   ]
  },
  {
   "cell_type": "code",
   "execution_count": 4,
   "id": "1ca57b3a-e09e-4f6d-a7ca-c6270a88512f",
   "metadata": {},
   "outputs": [
    {
     "name": "stderr",
     "output_type": "stream",
     "text": [
      "                                                                                \r"
     ]
    },
    {
     "data": {
      "text/html": [
       "<div>\n",
       "<style scoped>\n",
       "    .dataframe tbody tr th:only-of-type {\n",
       "        vertical-align: middle;\n",
       "    }\n",
       "\n",
       "    .dataframe tbody tr th {\n",
       "        vertical-align: top;\n",
       "    }\n",
       "\n",
       "    .dataframe thead th {\n",
       "        text-align: right;\n",
       "    }\n",
       "</style>\n",
       "<table border=\"1\" class=\"dataframe\">\n",
       "  <thead>\n",
       "    <tr style=\"text-align: right;\">\n",
       "      <th></th>\n",
       "      <th>Role</th>\n",
       "      <th>count</th>\n",
       "    </tr>\n",
       "  </thead>\n",
       "  <tbody>\n",
       "    <tr>\n",
       "      <th>0</th>\n",
       "      <td>API Developer</td>\n",
       "      <td>3483</td>\n",
       "    </tr>\n",
       "    <tr>\n",
       "      <th>1</th>\n",
       "      <td>Accessibility Developer</td>\n",
       "      <td>3513</td>\n",
       "    </tr>\n",
       "    <tr>\n",
       "      <th>2</th>\n",
       "      <td>Account Executive</td>\n",
       "      <td>7063</td>\n",
       "    </tr>\n",
       "    <tr>\n",
       "      <th>3</th>\n",
       "      <td>Account Manager</td>\n",
       "      <td>3474</td>\n",
       "    </tr>\n",
       "    <tr>\n",
       "      <th>4</th>\n",
       "      <td>Account Strategist</td>\n",
       "      <td>3460</td>\n",
       "    </tr>\n",
       "    <tr>\n",
       "      <th>...</th>\n",
       "      <td>...</td>\n",
       "      <td>...</td>\n",
       "    </tr>\n",
       "    <tr>\n",
       "      <th>371</th>\n",
       "      <td>Wedding Consultant</td>\n",
       "      <td>3492</td>\n",
       "    </tr>\n",
       "    <tr>\n",
       "      <th>372</th>\n",
       "      <td>Wedding Coordinator</td>\n",
       "      <td>3552</td>\n",
       "    </tr>\n",
       "    <tr>\n",
       "      <th>373</th>\n",
       "      <td>Wedding Designer</td>\n",
       "      <td>3353</td>\n",
       "    </tr>\n",
       "    <tr>\n",
       "      <th>374</th>\n",
       "      <td>Wedding Planner</td>\n",
       "      <td>6902</td>\n",
       "    </tr>\n",
       "    <tr>\n",
       "      <th>375</th>\n",
       "      <td>Wireless Network Engineer</td>\n",
       "      <td>3458</td>\n",
       "    </tr>\n",
       "  </tbody>\n",
       "</table>\n",
       "<p>376 rows × 2 columns</p>\n",
       "</div>"
      ],
      "text/plain": [
       "                          Role  count\n",
       "0                API Developer   3483\n",
       "1      Accessibility Developer   3513\n",
       "2            Account Executive   7063\n",
       "3              Account Manager   3474\n",
       "4           Account Strategist   3460\n",
       "..                         ...    ...\n",
       "371         Wedding Consultant   3492\n",
       "372        Wedding Coordinator   3552\n",
       "373           Wedding Designer   3353\n",
       "374            Wedding Planner   6902\n",
       "375  Wireless Network Engineer   3458\n",
       "\n",
       "[376 rows x 2 columns]"
      ]
     },
     "execution_count": 4,
     "metadata": {},
     "output_type": "execute_result"
    }
   ],
   "source": [
    "jobs.groupBy(\"Role\").count().sort(\"Role\").toPandas()"
   ]
  },
  {
   "cell_type": "markdown",
   "id": "9aa39f49-5491-4d46-8920-11d0ec8676db",
   "metadata": {
    "editable": true,
    "slideshow": {
     "slide_type": ""
    },
    "tags": []
   },
   "source": [
    "# **Feature 1**\n",
    "\n",
    "Comparison of job to other jobs of the same position.\n",
    "\n",
    "Example: I am looking for a new \"software engineer\" position.  When I look at a job posting, I'd like to see how this posting compares to other \"software engineer\" positions.  For example, \"this posting has a lower salary than other postings of similar positions, and requires more qualifications.\n",
    "\n",
    "Input:\n",
    "```json\n",
    "{\n",
    "    \"role\": \"job role\"\n",
    "    \"salary\": 100000,\n",
    "    \"education\": \"BS\",\n",
    "    \"experience\": 5,\n",
    "    \"num_skills\": 5,\n",
    "    \"num_responsibilities\": 5,\n",
    "    \"num_benefits\": 5\n",
    "}\n",
    "```\n",
    "\n",
    "Output:\n",
    "```json\n",
    "{\n",
    "    \"role\": \"Frontend Web Developer\",\n",
    "    \"salary\": \"less than average\",\n",
    "    \"education\": \"less than average\",\n",
    "    \"experience\": \"less than average\",\n",
    "    \"skills\": \"greater than average\",\n",
    "    \"responsibilities\": \"greater than average\",\n",
    "    \"benefits\": \"greater than average\",\n",
    "}\n",
    "```"
   ]
  },
  {
   "cell_type": "code",
   "execution_count": 142,
   "id": "3be05e02-d94e-4eb4-be8e-574db40ce27a",
   "metadata": {},
   "outputs": [
    {
     "name": "stderr",
     "output_type": "stream",
     "text": [
      "                                                                                \r"
     ]
    }
   ],
   "source": [
    "role_stats = {}\n",
    "roles = jobs.groupBy(\"Role\").count().sort(\"Role\").toPandas()\n",
    "\n",
    "for i, row in roles.iterrows():\n",
    "    role_stats[row[\"Role\"]] = {}"
   ]
  },
  {
   "cell_type": "code",
   "execution_count": 143,
   "id": "aa30c779-8c74-47a2-839c-394ef292d816",
   "metadata": {},
   "outputs": [
    {
     "name": "stderr",
     "output_type": "stream",
     "text": [
      "                                                                                \r"
     ]
    },
    {
     "data": {
      "text/html": [
       "<div>\n",
       "<style scoped>\n",
       "    .dataframe tbody tr th:only-of-type {\n",
       "        vertical-align: middle;\n",
       "    }\n",
       "\n",
       "    .dataframe tbody tr th {\n",
       "        vertical-align: top;\n",
       "    }\n",
       "\n",
       "    .dataframe thead th {\n",
       "        text-align: right;\n",
       "    }\n",
       "</style>\n",
       "<table border=\"1\" class=\"dataframe\">\n",
       "  <thead>\n",
       "    <tr style=\"text-align: right;\">\n",
       "      <th></th>\n",
       "      <th>Role</th>\n",
       "      <th>avg(Salary)</th>\n",
       "    </tr>\n",
       "  </thead>\n",
       "  <tbody>\n",
       "    <tr>\n",
       "      <th>0</th>\n",
       "      <td>API Developer</td>\n",
       "      <td>82636.602452</td>\n",
       "    </tr>\n",
       "    <tr>\n",
       "      <th>1</th>\n",
       "      <td>Accessibility Developer</td>\n",
       "      <td>82385.600455</td>\n",
       "    </tr>\n",
       "    <tr>\n",
       "      <th>2</th>\n",
       "      <td>Account Executive</td>\n",
       "      <td>82449.157303</td>\n",
       "    </tr>\n",
       "    <tr>\n",
       "      <th>3</th>\n",
       "      <td>Account Manager</td>\n",
       "      <td>82809.915014</td>\n",
       "    </tr>\n",
       "    <tr>\n",
       "      <th>4</th>\n",
       "      <td>Account Strategist</td>\n",
       "      <td>82440.628638</td>\n",
       "    </tr>\n",
       "    <tr>\n",
       "      <th>...</th>\n",
       "      <td>...</td>\n",
       "      <td>...</td>\n",
       "    </tr>\n",
       "    <tr>\n",
       "      <th>371</th>\n",
       "      <td>Wedding Consultant</td>\n",
       "      <td>82349.743882</td>\n",
       "    </tr>\n",
       "    <tr>\n",
       "      <th>372</th>\n",
       "      <td>Wedding Coordinator</td>\n",
       "      <td>82566.101695</td>\n",
       "    </tr>\n",
       "    <tr>\n",
       "      <th>373</th>\n",
       "      <td>Wedding Designer</td>\n",
       "      <td>82452.353283</td>\n",
       "    </tr>\n",
       "    <tr>\n",
       "      <th>374</th>\n",
       "      <td>Wedding Planner</td>\n",
       "      <td>82525.977817</td>\n",
       "    </tr>\n",
       "    <tr>\n",
       "      <th>375</th>\n",
       "      <td>Wireless Network Engineer</td>\n",
       "      <td>82669.014085</td>\n",
       "    </tr>\n",
       "  </tbody>\n",
       "</table>\n",
       "<p>376 rows × 2 columns</p>\n",
       "</div>"
      ],
      "text/plain": [
       "                          Role   avg(Salary)\n",
       "0                API Developer  82636.602452\n",
       "1      Accessibility Developer  82385.600455\n",
       "2            Account Executive  82449.157303\n",
       "3              Account Manager  82809.915014\n",
       "4           Account Strategist  82440.628638\n",
       "..                         ...           ...\n",
       "371         Wedding Consultant  82349.743882\n",
       "372        Wedding Coordinator  82566.101695\n",
       "373           Wedding Designer  82452.353283\n",
       "374            Wedding Planner  82525.977817\n",
       "375  Wireless Network Engineer  82669.014085\n",
       "\n",
       "[376 rows x 2 columns]"
      ]
     },
     "execution_count": 143,
     "metadata": {},
     "output_type": "execute_result"
    }
   ],
   "source": [
    "def get_avg_salary(salary_str):\n",
    "    range = [int(n) for n in re.findall(r\"\\d+\", salary_str)]\n",
    "    return statistics.mean(range) * 1000\n",
    "\n",
    "udf_avg_salary = udf(get_avg_salary, types.FloatType())\n",
    "\n",
    "salaries = jobs.withColumn(\"Salary\", udf_avg_salary(col(\"Salary Range\")))\\\n",
    ".groupBy(\"Role\").mean(\"Salary\").sort(\"Role\").toPandas()\n",
    "\n",
    "for i, row in salaries.iterrows():\n",
    "    role_stats[row[\"Role\"]][\"salary\"] = row[\"avg(Salary)\"]\n",
    "\n",
    "salaries"
   ]
  },
  {
   "cell_type": "code",
   "execution_count": 144,
   "id": "378925c8-0803-4580-bccc-5f7b73ee6dc2",
   "metadata": {},
   "outputs": [
    {
     "name": "stderr",
     "output_type": "stream",
     "text": [
      "                                                                                \r"
     ]
    },
    {
     "data": {
      "text/html": [
       "<div>\n",
       "<style scoped>\n",
       "    .dataframe tbody tr th:only-of-type {\n",
       "        vertical-align: middle;\n",
       "    }\n",
       "\n",
       "    .dataframe tbody tr th {\n",
       "        vertical-align: top;\n",
       "    }\n",
       "\n",
       "    .dataframe thead th {\n",
       "        text-align: right;\n",
       "    }\n",
       "</style>\n",
       "<table border=\"1\" class=\"dataframe\">\n",
       "  <thead>\n",
       "    <tr style=\"text-align: right;\">\n",
       "      <th></th>\n",
       "      <th>Role</th>\n",
       "      <th>avg(Education)</th>\n",
       "    </tr>\n",
       "  </thead>\n",
       "  <tbody>\n",
       "    <tr>\n",
       "      <th>0</th>\n",
       "      <td>API Developer</td>\n",
       "      <td>1.614126</td>\n",
       "    </tr>\n",
       "    <tr>\n",
       "      <th>1</th>\n",
       "      <td>Accessibility Developer</td>\n",
       "      <td>1.597780</td>\n",
       "    </tr>\n",
       "    <tr>\n",
       "      <th>2</th>\n",
       "      <td>Account Executive</td>\n",
       "      <td>1.600878</td>\n",
       "    </tr>\n",
       "    <tr>\n",
       "      <th>3</th>\n",
       "      <td>Account Manager</td>\n",
       "      <td>1.585492</td>\n",
       "    </tr>\n",
       "    <tr>\n",
       "      <th>4</th>\n",
       "      <td>Account Strategist</td>\n",
       "      <td>1.600578</td>\n",
       "    </tr>\n",
       "    <tr>\n",
       "      <th>...</th>\n",
       "      <td>...</td>\n",
       "      <td>...</td>\n",
       "    </tr>\n",
       "    <tr>\n",
       "      <th>371</th>\n",
       "      <td>Wedding Consultant</td>\n",
       "      <td>1.615979</td>\n",
       "    </tr>\n",
       "    <tr>\n",
       "      <th>372</th>\n",
       "      <td>Wedding Coordinator</td>\n",
       "      <td>1.606700</td>\n",
       "    </tr>\n",
       "    <tr>\n",
       "      <th>373</th>\n",
       "      <td>Wedding Designer</td>\n",
       "      <td>1.590218</td>\n",
       "    </tr>\n",
       "    <tr>\n",
       "      <th>374</th>\n",
       "      <td>Wedding Planner</td>\n",
       "      <td>1.601710</td>\n",
       "    </tr>\n",
       "    <tr>\n",
       "      <th>375</th>\n",
       "      <td>Wireless Network Engineer</td>\n",
       "      <td>1.580682</td>\n",
       "    </tr>\n",
       "  </tbody>\n",
       "</table>\n",
       "<p>376 rows × 2 columns</p>\n",
       "</div>"
      ],
      "text/plain": [
       "                          Role  avg(Education)\n",
       "0                API Developer        1.614126\n",
       "1      Accessibility Developer        1.597780\n",
       "2            Account Executive        1.600878\n",
       "3              Account Manager        1.585492\n",
       "4           Account Strategist        1.600578\n",
       "..                         ...             ...\n",
       "371         Wedding Consultant        1.615979\n",
       "372        Wedding Coordinator        1.606700\n",
       "373           Wedding Designer        1.590218\n",
       "374            Wedding Planner        1.601710\n",
       "375  Wireless Network Engineer        1.580682\n",
       "\n",
       "[376 rows x 2 columns]"
      ]
     },
     "execution_count": 144,
     "metadata": {},
     "output_type": "execute_result"
    }
   ],
   "source": [
    "def get_avg_ed(ed_str):\n",
    "    # Bachelor's\n",
    "    if ed_str[0] == \"B\":\n",
    "        return 1\n",
    "    # Master's\n",
    "    if ed_str[0] == \"M\":\n",
    "        return 2\n",
    "    # Doctorate\n",
    "    if ed_str[0] == \"P\":\n",
    "        return 3\n",
    "    else:\n",
    "        return 0\n",
    "\n",
    "udf_avg_ed = udf(get_avg_ed, types.IntegerType())\n",
    "\n",
    "educations = jobs.withColumn(\"Education\", udf_avg_ed(col(\"Qualifications\")))\\\n",
    ".groupBy(\"Role\").mean(\"Education\").sort(\"Role\").toPandas()\n",
    "\n",
    "for i, row in educations.iterrows():\n",
    "    role_stats[row[\"Role\"]][\"education\"] = row[\"avg(Education)\"]\n",
    "\n",
    "educations"
   ]
  },
  {
   "cell_type": "code",
   "execution_count": 145,
   "id": "d7f41b2c-23bf-4add-a2bd-a29315791e92",
   "metadata": {},
   "outputs": [
    {
     "name": "stderr",
     "output_type": "stream",
     "text": [
      "                                                                                \r"
     ]
    },
    {
     "data": {
      "text/html": [
       "<div>\n",
       "<style scoped>\n",
       "    .dataframe tbody tr th:only-of-type {\n",
       "        vertical-align: middle;\n",
       "    }\n",
       "\n",
       "    .dataframe tbody tr th {\n",
       "        vertical-align: top;\n",
       "    }\n",
       "\n",
       "    .dataframe thead th {\n",
       "        text-align: right;\n",
       "    }\n",
       "</style>\n",
       "<table border=\"1\" class=\"dataframe\">\n",
       "  <thead>\n",
       "    <tr style=\"text-align: right;\">\n",
       "      <th></th>\n",
       "      <th>Role</th>\n",
       "      <th>avg(Years Experience)</th>\n",
       "    </tr>\n",
       "  </thead>\n",
       "  <tbody>\n",
       "    <tr>\n",
       "      <th>0</th>\n",
       "      <td>API Developer</td>\n",
       "      <td>7.003116</td>\n",
       "    </tr>\n",
       "    <tr>\n",
       "      <th>1</th>\n",
       "      <td>Accessibility Developer</td>\n",
       "      <td>7.026810</td>\n",
       "    </tr>\n",
       "    <tr>\n",
       "      <th>2</th>\n",
       "      <td>Account Executive</td>\n",
       "      <td>6.961190</td>\n",
       "    </tr>\n",
       "    <tr>\n",
       "      <th>3</th>\n",
       "      <td>Account Manager</td>\n",
       "      <td>6.964162</td>\n",
       "    </tr>\n",
       "    <tr>\n",
       "      <th>4</th>\n",
       "      <td>Account Strategist</td>\n",
       "      <td>7.009029</td>\n",
       "    </tr>\n",
       "    <tr>\n",
       "      <th>...</th>\n",
       "      <td>...</td>\n",
       "      <td>...</td>\n",
       "    </tr>\n",
       "    <tr>\n",
       "      <th>371</th>\n",
       "      <td>Wedding Consultant</td>\n",
       "      <td>6.962441</td>\n",
       "    </tr>\n",
       "    <tr>\n",
       "      <th>372</th>\n",
       "      <td>Wedding Coordinator</td>\n",
       "      <td>6.971982</td>\n",
       "    </tr>\n",
       "    <tr>\n",
       "      <th>373</th>\n",
       "      <td>Wedding Designer</td>\n",
       "      <td>7.065859</td>\n",
       "    </tr>\n",
       "    <tr>\n",
       "      <th>374</th>\n",
       "      <td>Wedding Planner</td>\n",
       "      <td>7.018487</td>\n",
       "    </tr>\n",
       "    <tr>\n",
       "      <th>375</th>\n",
       "      <td>Wireless Network Engineer</td>\n",
       "      <td>6.991419</td>\n",
       "    </tr>\n",
       "  </tbody>\n",
       "</table>\n",
       "<p>376 rows × 2 columns</p>\n",
       "</div>"
      ],
      "text/plain": [
       "                          Role  avg(Years Experience)\n",
       "0                API Developer               7.003116\n",
       "1      Accessibility Developer               7.026810\n",
       "2            Account Executive               6.961190\n",
       "3              Account Manager               6.964162\n",
       "4           Account Strategist               7.009029\n",
       "..                         ...                    ...\n",
       "371         Wedding Consultant               6.962441\n",
       "372        Wedding Coordinator               6.971982\n",
       "373           Wedding Designer               7.065859\n",
       "374            Wedding Planner               7.018487\n",
       "375  Wireless Network Engineer               6.991419\n",
       "\n",
       "[376 rows x 2 columns]"
      ]
     },
     "execution_count": 145,
     "metadata": {},
     "output_type": "execute_result"
    }
   ],
   "source": [
    "def get_avg_exp(exp_str):\n",
    "    range = [int(n) for n in re.findall(r\"\\d+\", exp_str)]\n",
    "    return statistics.mean(range)\n",
    "\n",
    "udf_avg_exp = udf(get_avg_exp, types.FloatType())\n",
    "\n",
    "exps = jobs.withColumn(\"Years Experience\", udf_avg_exp(col(\"experience\")))\\\n",
    ".groupBy(\"Role\").mean(\"Years Experience\").sort(\"Role\").toPandas()\n",
    "\n",
    "for i, row in exps.iterrows():\n",
    "    role_stats[row[\"Role\"]][\"experience\"] = row[\"avg(Years Experience)\"]\n",
    "\n",
    "exps"
   ]
  },
  {
   "cell_type": "code",
   "execution_count": 146,
   "id": "329e5d40-3cec-418f-b23c-35bdaa1bbfd3",
   "metadata": {},
   "outputs": [
    {
     "name": "stderr",
     "output_type": "stream",
     "text": [
      "                                                                                \r"
     ]
    },
    {
     "data": {
      "text/html": [
       "<div>\n",
       "<style scoped>\n",
       "    .dataframe tbody tr th:only-of-type {\n",
       "        vertical-align: middle;\n",
       "    }\n",
       "\n",
       "    .dataframe tbody tr th {\n",
       "        vertical-align: top;\n",
       "    }\n",
       "\n",
       "    .dataframe thead th {\n",
       "        text-align: right;\n",
       "    }\n",
       "</style>\n",
       "<table border=\"1\" class=\"dataframe\">\n",
       "  <thead>\n",
       "    <tr style=\"text-align: right;\">\n",
       "      <th></th>\n",
       "      <th>Role</th>\n",
       "      <th>avg(num_skills)</th>\n",
       "    </tr>\n",
       "  </thead>\n",
       "  <tbody>\n",
       "    <tr>\n",
       "      <th>0</th>\n",
       "      <td>API Developer</td>\n",
       "      <td>5.0</td>\n",
       "    </tr>\n",
       "    <tr>\n",
       "      <th>1</th>\n",
       "      <td>Accessibility Developer</td>\n",
       "      <td>14.0</td>\n",
       "    </tr>\n",
       "    <tr>\n",
       "      <th>2</th>\n",
       "      <td>Account Executive</td>\n",
       "      <td>7.0</td>\n",
       "    </tr>\n",
       "    <tr>\n",
       "      <th>3</th>\n",
       "      <td>Account Manager</td>\n",
       "      <td>5.0</td>\n",
       "    </tr>\n",
       "    <tr>\n",
       "      <th>4</th>\n",
       "      <td>Account Strategist</td>\n",
       "      <td>6.0</td>\n",
       "    </tr>\n",
       "    <tr>\n",
       "      <th>...</th>\n",
       "      <td>...</td>\n",
       "      <td>...</td>\n",
       "    </tr>\n",
       "    <tr>\n",
       "      <th>371</th>\n",
       "      <td>Wedding Consultant</td>\n",
       "      <td>3.0</td>\n",
       "    </tr>\n",
       "    <tr>\n",
       "      <th>372</th>\n",
       "      <td>Wedding Coordinator</td>\n",
       "      <td>12.0</td>\n",
       "    </tr>\n",
       "    <tr>\n",
       "      <th>373</th>\n",
       "      <td>Wedding Designer</td>\n",
       "      <td>3.0</td>\n",
       "    </tr>\n",
       "    <tr>\n",
       "      <th>374</th>\n",
       "      <td>Wedding Planner</td>\n",
       "      <td>5.0</td>\n",
       "    </tr>\n",
       "    <tr>\n",
       "      <th>375</th>\n",
       "      <td>Wireless Network Engineer</td>\n",
       "      <td>6.0</td>\n",
       "    </tr>\n",
       "  </tbody>\n",
       "</table>\n",
       "<p>376 rows × 2 columns</p>\n",
       "</div>"
      ],
      "text/plain": [
       "                          Role  avg(num_skills)\n",
       "0                API Developer              5.0\n",
       "1      Accessibility Developer             14.0\n",
       "2            Account Executive              7.0\n",
       "3              Account Manager              5.0\n",
       "4           Account Strategist              6.0\n",
       "..                         ...              ...\n",
       "371         Wedding Consultant              3.0\n",
       "372        Wedding Coordinator             12.0\n",
       "373           Wedding Designer              3.0\n",
       "374            Wedding Planner              5.0\n",
       "375  Wireless Network Engineer              6.0\n",
       "\n",
       "[376 rows x 2 columns]"
      ]
     },
     "execution_count": 146,
     "metadata": {},
     "output_type": "execute_result"
    }
   ],
   "source": [
    "def get_avg_skills(skills_str):\n",
    "    split = re.split(r\"(?=\\s[A-Z])\", skills_str)\n",
    "    skills = [s.strip() for s in split if s.strip()]\n",
    "    return len(skills)\n",
    "\n",
    "udf_avg_skills = udf(get_avg_skills, types.IntegerType())\n",
    "\n",
    "skills = jobs.withColumn(\"num_skills\", udf_avg_skills(col(\"skills\")))\\\n",
    ".groupBy(\"Role\").mean(\"num_skills\").sort(\"Role\").toPandas()\n",
    "\n",
    "for i, row in skills.iterrows():\n",
    "    role_stats[row[\"Role\"]][\"num_skills\"] = row[\"avg(num_skills)\"]\n",
    "\n",
    "skills"
   ]
  },
  {
   "cell_type": "code",
   "execution_count": 147,
   "id": "0708fb05-d3e6-424c-954e-ecda317daed4",
   "metadata": {},
   "outputs": [
    {
     "name": "stderr",
     "output_type": "stream",
     "text": [
      "                                                                                \r"
     ]
    },
    {
     "data": {
      "text/html": [
       "<div>\n",
       "<style scoped>\n",
       "    .dataframe tbody tr th:only-of-type {\n",
       "        vertical-align: middle;\n",
       "    }\n",
       "\n",
       "    .dataframe tbody tr th {\n",
       "        vertical-align: top;\n",
       "    }\n",
       "\n",
       "    .dataframe thead th {\n",
       "        text-align: right;\n",
       "    }\n",
       "</style>\n",
       "<table border=\"1\" class=\"dataframe\">\n",
       "  <thead>\n",
       "    <tr style=\"text-align: right;\">\n",
       "      <th></th>\n",
       "      <th>Role</th>\n",
       "      <th>avg(num_responsibilities)</th>\n",
       "    </tr>\n",
       "  </thead>\n",
       "  <tbody>\n",
       "    <tr>\n",
       "      <th>0</th>\n",
       "      <td>API Developer</td>\n",
       "      <td>3.0</td>\n",
       "    </tr>\n",
       "    <tr>\n",
       "      <th>1</th>\n",
       "      <td>Accessibility Developer</td>\n",
       "      <td>3.0</td>\n",
       "    </tr>\n",
       "    <tr>\n",
       "      <th>2</th>\n",
       "      <td>Account Executive</td>\n",
       "      <td>3.0</td>\n",
       "    </tr>\n",
       "    <tr>\n",
       "      <th>3</th>\n",
       "      <td>Account Manager</td>\n",
       "      <td>3.0</td>\n",
       "    </tr>\n",
       "    <tr>\n",
       "      <th>4</th>\n",
       "      <td>Account Strategist</td>\n",
       "      <td>3.0</td>\n",
       "    </tr>\n",
       "    <tr>\n",
       "      <th>...</th>\n",
       "      <td>...</td>\n",
       "      <td>...</td>\n",
       "    </tr>\n",
       "    <tr>\n",
       "      <th>371</th>\n",
       "      <td>Wedding Consultant</td>\n",
       "      <td>3.0</td>\n",
       "    </tr>\n",
       "    <tr>\n",
       "      <th>372</th>\n",
       "      <td>Wedding Coordinator</td>\n",
       "      <td>3.0</td>\n",
       "    </tr>\n",
       "    <tr>\n",
       "      <th>373</th>\n",
       "      <td>Wedding Designer</td>\n",
       "      <td>3.0</td>\n",
       "    </tr>\n",
       "    <tr>\n",
       "      <th>374</th>\n",
       "      <td>Wedding Planner</td>\n",
       "      <td>3.0</td>\n",
       "    </tr>\n",
       "    <tr>\n",
       "      <th>375</th>\n",
       "      <td>Wireless Network Engineer</td>\n",
       "      <td>3.0</td>\n",
       "    </tr>\n",
       "  </tbody>\n",
       "</table>\n",
       "<p>376 rows × 2 columns</p>\n",
       "</div>"
      ],
      "text/plain": [
       "                          Role  avg(num_responsibilities)\n",
       "0                API Developer                        3.0\n",
       "1      Accessibility Developer                        3.0\n",
       "2            Account Executive                        3.0\n",
       "3              Account Manager                        3.0\n",
       "4           Account Strategist                        3.0\n",
       "..                         ...                        ...\n",
       "371         Wedding Consultant                        3.0\n",
       "372        Wedding Coordinator                        3.0\n",
       "373           Wedding Designer                        3.0\n",
       "374            Wedding Planner                        3.0\n",
       "375  Wireless Network Engineer                        3.0\n",
       "\n",
       "[376 rows x 2 columns]"
      ]
     },
     "execution_count": 147,
     "metadata": {},
     "output_type": "execute_result"
    }
   ],
   "source": [
    "def get_avg_res(responsibilities_str):\n",
    "    responsibilities = [r.strip() for r in responsibilities_str.split(\".\") if r.strip()]\n",
    "    return len(responsibilities)\n",
    "\n",
    "udf_avg_res = udf(get_avg_res, types.IntegerType())\n",
    "\n",
    "responsibilities = jobs.withColumn(\"num_responsibilities\", udf_avg_res(col(\"responsibilities\")))\\\n",
    ".groupBy(\"Role\").mean(\"num_responsibilities\").sort(\"Role\").toPandas()\n",
    "\n",
    "for i, row in responsibilities.iterrows():\n",
    "    role_stats[row[\"Role\"]][\"num_responsibilities\"] = row[\"avg(num_responsibilities)\"]\n",
    "\n",
    "responsibilities"
   ]
  },
  {
   "cell_type": "code",
   "execution_count": 148,
   "id": "d469ac58-7987-462f-b225-7042702d82b3",
   "metadata": {},
   "outputs": [
    {
     "name": "stderr",
     "output_type": "stream",
     "text": [
      "                                                                                \r"
     ]
    },
    {
     "data": {
      "text/html": [
       "<div>\n",
       "<style scoped>\n",
       "    .dataframe tbody tr th:only-of-type {\n",
       "        vertical-align: middle;\n",
       "    }\n",
       "\n",
       "    .dataframe tbody tr th {\n",
       "        vertical-align: top;\n",
       "    }\n",
       "\n",
       "    .dataframe thead th {\n",
       "        text-align: right;\n",
       "    }\n",
       "</style>\n",
       "<table border=\"1\" class=\"dataframe\">\n",
       "  <thead>\n",
       "    <tr style=\"text-align: right;\">\n",
       "      <th></th>\n",
       "      <th>Role</th>\n",
       "      <th>avg(num_benefits)</th>\n",
       "    </tr>\n",
       "  </thead>\n",
       "  <tbody>\n",
       "    <tr>\n",
       "      <th>0</th>\n",
       "      <td>API Developer</td>\n",
       "      <td>5.0</td>\n",
       "    </tr>\n",
       "    <tr>\n",
       "      <th>1</th>\n",
       "      <td>Accessibility Developer</td>\n",
       "      <td>5.0</td>\n",
       "    </tr>\n",
       "    <tr>\n",
       "      <th>2</th>\n",
       "      <td>Account Executive</td>\n",
       "      <td>5.0</td>\n",
       "    </tr>\n",
       "    <tr>\n",
       "      <th>3</th>\n",
       "      <td>Account Manager</td>\n",
       "      <td>5.0</td>\n",
       "    </tr>\n",
       "    <tr>\n",
       "      <th>4</th>\n",
       "      <td>Account Strategist</td>\n",
       "      <td>5.0</td>\n",
       "    </tr>\n",
       "    <tr>\n",
       "      <th>...</th>\n",
       "      <td>...</td>\n",
       "      <td>...</td>\n",
       "    </tr>\n",
       "    <tr>\n",
       "      <th>371</th>\n",
       "      <td>Wedding Consultant</td>\n",
       "      <td>5.0</td>\n",
       "    </tr>\n",
       "    <tr>\n",
       "      <th>372</th>\n",
       "      <td>Wedding Coordinator</td>\n",
       "      <td>5.0</td>\n",
       "    </tr>\n",
       "    <tr>\n",
       "      <th>373</th>\n",
       "      <td>Wedding Designer</td>\n",
       "      <td>5.0</td>\n",
       "    </tr>\n",
       "    <tr>\n",
       "      <th>374</th>\n",
       "      <td>Wedding Planner</td>\n",
       "      <td>5.0</td>\n",
       "    </tr>\n",
       "    <tr>\n",
       "      <th>375</th>\n",
       "      <td>Wireless Network Engineer</td>\n",
       "      <td>5.0</td>\n",
       "    </tr>\n",
       "  </tbody>\n",
       "</table>\n",
       "<p>376 rows × 2 columns</p>\n",
       "</div>"
      ],
      "text/plain": [
       "                          Role  avg(num_benefits)\n",
       "0                API Developer                5.0\n",
       "1      Accessibility Developer                5.0\n",
       "2            Account Executive                5.0\n",
       "3              Account Manager                5.0\n",
       "4           Account Strategist                5.0\n",
       "..                         ...                ...\n",
       "371         Wedding Consultant                5.0\n",
       "372        Wedding Coordinator                5.0\n",
       "373           Wedding Designer                5.0\n",
       "374            Wedding Planner                5.0\n",
       "375  Wireless Network Engineer                5.0\n",
       "\n",
       "[376 rows x 2 columns]"
      ]
     },
     "execution_count": 148,
     "metadata": {},
     "output_type": "execute_result"
    }
   ],
   "source": [
    "def get_avg_ben(benefits_str):\n",
    "    benefits = [b.strip() for b in benefits_str[2:-2].split(\",\") if b.strip()]\n",
    "    return len(benefits)\n",
    "\n",
    "udf_avg_ben = udf(get_avg_ben, types.IntegerType())\n",
    "\n",
    "benefits = jobs.withColumn(\"num_benefits\", udf_avg_ben(col(\"benefits\")))\\\n",
    ".groupBy(\"Role\").mean(\"num_benefits\").sort(\"Role\").toPandas()\n",
    "\n",
    "for i, row in benefits.iterrows():\n",
    "    role_stats[row[\"Role\"]][\"num_benefits\"] = row[\"avg(num_benefits)\"]\n",
    "\n",
    "benefits"
   ]
  },
  {
   "cell_type": "code",
   "execution_count": 149,
   "id": "219622e3-b52b-4ae8-8570-6ed80a5eeaee",
   "metadata": {},
   "outputs": [],
   "source": [
    "with open(\"../outputs/role_stats.json\", \"w\") as f:\n",
    "    json.dump(role_stats, f)"
   ]
  },
  {
   "cell_type": "markdown",
   "id": "60ee4eb9-4fa1-4027-991f-b66f6dbb8936",
   "metadata": {},
   "source": [
    "# **Feature 2**\n",
    "\n",
    "What skills an applicant needs for a specific job position.\n",
    "\n",
    "Example: I am looking for a new \"software engineer\" position.  When I search for \"software engineer,\" I'd like to see a list of the most common qualifications for this position, e.g., \"Python proficiency, AWS CDK, and GitHub CI/CD.\"\n",
    "\n",
    "Input:\n",
    "```json\n",
    "{\n",
    "    \"role\": \"Frontend Web Developer\",\n",
    "}\n",
    "```\n",
    "\n",
    "Output:\n",
    "```json\n",
    "{\n",
    "    \"skills\": [\n",
    "        \"HTML\",\n",
    "        \"CSS\",\n",
    "        \"JavaScript Frontend frameworks (e.g., React, Angular)\",\n",
    "        \"User experience (UX)\",\n",
    "    ],\n",
    "}\n",
    "```"
   ]
  },
  {
   "cell_type": "markdown",
   "id": "c48db37a-d881-4fa6-9005-5e21d1e11763",
   "metadata": {},
   "source": [
    "## YAKE UDF Method"
   ]
  },
  {
   "cell_type": "code",
   "execution_count": 5,
   "id": "17451bbe-d27d-44de-978d-f8e39419be81",
   "metadata": {},
   "outputs": [],
   "source": [
    "jobs_reduced = jobs.sample(withReplacement = False, fraction = .1)"
   ]
  },
  {
   "cell_type": "code",
   "execution_count": null,
   "id": "06f4414c-4c36-4ad3-8b44-65dd90a3f96e",
   "metadata": {},
   "outputs": [],
   "source": [
    "extractor = yake.KeywordExtractor(top = 5, stopwords = None)\n",
    "\n",
    "def get_keywords(skills_str):\n",
    "    skills = extractor.extract_keywords(skills_str)\n",
    "    return [s[0].strip().lower() for s in skills]\n",
    "\n",
    "udf_keywords = udf(get_keywords, types.ArrayType(types.StringType()))\n",
    "\n",
    "# keywords = jobs.withColumn(\"skills_keywords\", udf_keywords(col(\"skills\")))\n",
    "keywords = jobs_reduced.withColumn(\"skills_keywords\", udf_keywords(col(\"skills\")))\n",
    "keywords = keywords.withColumn(\"keyword\", explode(\"skills_keywords\"))\n",
    "keywords_count = keywords.groupBy(\"Role\", \"keyword\").count()"
   ]
  },
  {
   "cell_type": "code",
   "execution_count": null,
   "id": "b540d88b-20c5-4561-8efd-62b7cf047d2d",
   "metadata": {},
   "outputs": [],
   "source": [
    "window = Window.partitionBy(keywords_count[\"Role\"]).orderBy(keywords_count[\"count\"].desc())\n",
    "# get top 5 ranked skills keywords for each role\n",
    "top_skills = keywords_count.select(\"*\", rank().over(window).alias(\"rank\")).filter(col(\"rank\") <= 5)\n",
    "top_skills = top_skills.groupBy(\"Role\").agg(collect_set(\"keyword\").alias(\"keywords\")).toPandas()"
   ]
  },
  {
   "cell_type": "markdown",
   "id": "3ffb1e4f-99df-436f-8731-f9b9194363d8",
   "metadata": {},
   "source": [
    "## Spark NLP Method"
   ]
  },
  {
   "cell_type": "code",
   "execution_count": null,
   "id": "4c001e58-770b-49ff-a2f6-4af37160d5e1",
   "metadata": {},
   "outputs": [],
   "source": [
    "spark_nlp = sparknlp.start()"
   ]
  },
  {
   "cell_type": "code",
   "execution_count": 4,
   "id": "d7f60f3d-d356-42ab-ad92-9840c974a773",
   "metadata": {},
   "outputs": [
    {
     "name": "stderr",
     "output_type": "stream",
     "text": [
      "                                                                                \r"
     ]
    }
   ],
   "source": [
    "jobs = spark_nlp.read.option(\"header\", True).option(\"inferSchema\", True).csv(\"../job_descriptions.csv\")"
   ]
  },
  {
   "cell_type": "code",
   "execution_count": 5,
   "id": "63abc684-b50f-4331-baf7-9b0d21ed38cd",
   "metadata": {},
   "outputs": [],
   "source": [
    "jobs_reduced = jobs.sample(withReplacement = False, fraction = .1)"
   ]
  },
  {
   "cell_type": "code",
   "execution_count": 18,
   "id": "f0037b08-caef-4956-b77e-37e69881c621",
   "metadata": {},
   "outputs": [],
   "source": [
    "documentAssembler = DocumentAssembler().setInputCol(\"skills\").setOutputCol(\"document\")\n",
    "sentenceDetector = SentenceDetector().setInputCols([\"document\"]).setOutputCol(\"sentence\")\n",
    "token = Tokenizer().setInputCols([\"sentence\"]).setOutputCol(\"token\").setContextChars([\"(\", \"]\", \"?\", \"!\", \".\", \",\"])\n",
    "keywords = YakeKeywordExtraction().setInputCols([\"token\"]).setOutputCol(\"keywords\")\n",
    "pipeline = Pipeline().setStages([documentAssembler, sentenceDetector, token, keywords])\n",
    "\n",
    "# keywords = pipeline.fit(jobs).transform(jobs)\n",
    "keywords = pipeline.fit(jobs_reduced).transform(jobs_reduced)"
   ]
  },
  {
   "cell_type": "code",
   "execution_count": 19,
   "id": "b60312ef-af72-40d5-80d7-c75d19e519dd",
   "metadata": {},
   "outputs": [],
   "source": [
    "keywords = keywords.selectExpr(\"Role\", \"explode(keywords.result) as keyword\")\n",
    "keywords_count = keywords.groupBy(\"Role\", \"keyword\").count()"
   ]
  },
  {
   "cell_type": "code",
   "execution_count": 20,
   "id": "728b6340-c8da-4586-9b3a-4f5c437e4f57",
   "metadata": {},
   "outputs": [
    {
     "name": "stderr",
     "output_type": "stream",
     "text": [
      "                                                                                \r"
     ]
    }
   ],
   "source": [
    "window = Window.partitionBy(keywords_count[\"Role\"]).orderBy(keywords_count[\"count\"].desc())\n",
    "# get top 5 ranked skills keywords for each role\n",
    "top_skills = keywords_count.select(\"*\", rank().over(window).alias(\"rank\")).filter(col(\"rank\") <= 5)\n",
    "top_skills = top_skills.groupBy(\"Role\").agg(collect_set(\"keyword\").alias(\"keywords\")).toPandas()"
   ]
  },
  {
   "cell_type": "code",
   "execution_count": 21,
   "id": "6d3c4b17-7579-41e0-8921-564eaabe0575",
   "metadata": {},
   "outputs": [],
   "source": [
    "role_skills = {}\n",
    "\n",
    "for i, row in top_skills.iterrows():\n",
    "    role_skills[row[\"Role\"]] = row[\"keywords\"]"
   ]
  },
  {
   "cell_type": "code",
   "execution_count": 22,
   "id": "bad0a1d1-a4e2-4a14-a9c8-6cf5f387d7b7",
   "metadata": {},
   "outputs": [],
   "source": [
    "with open(\"../outputs/role_skills.json\", \"w\") as f:\n",
    "    json.dump(role_skills, f)"
   ]
  },
  {
   "cell_type": "markdown",
   "id": "bf51d373-24b9-416c-a55f-bae44087f988",
   "metadata": {},
   "source": [
    "# **Feature 3**\n",
    "\n",
    "Job recommendation based on user profile.\n",
    "\n",
    "Example: I enter in a list of qualifications I have (and maybe some other information such as desired salary).  I'd like to see a list of job positions that most fit my profile.\n",
    "\n",
    "Input:\n",
    "```json\n",
    "{\n",
    "    \"skills\": [\n",
    "        \"HTML\",\n",
    "        \"CSS\",\n",
    "        \"JavaScript Frontend frameworks (e.g., React, Angular)\",\n",
    "        \"User experience (UX)\",\n",
    "    ],\n",
    "    \"salary\": 100000,\n",
    "}\n",
    "```\n",
    "\n",
    "Output:\n",
    "```json\n",
    "{\n",
    "    \"roles\": [\n",
    "        \"Frontend Web Developer\",\n",
    "        \"User Interface Designer\",\n",
    "        \"Backend Developer\",\n",
    "    ],\n",
    "}\n",
    "```"
   ]
  },
  {
   "cell_type": "code",
   "execution_count": 102,
   "id": "564f3706-f43a-4192-ad2b-05d39b77d187",
   "metadata": {},
   "outputs": [],
   "source": [
    "user_reqs = {\n",
    "    \"skills\": [\"html\", \"java\", \"python\", \"aws\"],\n",
    "    \"salary\": 80000,\n",
    "}"
   ]
  },
  {
   "cell_type": "markdown",
   "id": "dc3e5a59-e7dd-4ca3-9789-1daf2c25d023",
   "metadata": {},
   "source": [
    "## Spark Method\n",
    "Upon request, run a query on a reduced version of the raw dataset to find the role most fitting of the user's requirements."
   ]
  },
  {
   "cell_type": "code",
   "execution_count": 22,
   "id": "3dc0791e-47cd-4655-8142-7b79c3ebab0b",
   "metadata": {},
   "outputs": [],
   "source": [
    "jobs_reduced = jobs.sample(withReplacement = False, fraction = .01)"
   ]
  },
  {
   "cell_type": "code",
   "execution_count": 24,
   "id": "aa09aa43-247c-4667-bb15-279e287cf002",
   "metadata": {},
   "outputs": [],
   "source": [
    "def get_avg_salary(salary_str):\n",
    "    range = [int(n) for n in re.findall(r\"\\d+\", salary_str)]\n",
    "    return statistics.mean(range) * 1000\n",
    "\n",
    "udf_avg_salary = udf(get_avg_salary, types.FloatType())\n",
    "\n",
    "salaries = jobs_reduced.withColumn(\"Salary\", udf_avg_salary(col(\"Salary Range\")))\n",
    "filtered = salaries.filter(salaries[\"Salary\"] >= user_reqs[\"salary\"])"
   ]
  },
  {
   "cell_type": "code",
   "execution_count": 25,
   "id": "23ca0488-c245-47fd-9a20-e73c9743e01b",
   "metadata": {},
   "outputs": [],
   "source": [
    "def get_skills(skills_str):\n",
    "    split = re.split(r\"(?=\\s[A-Z])\", skills_str)\n",
    "    return split\n",
    "\n",
    "# explode each row by individual skill\n",
    "udf_skills = udf(get_skills, types.ArrayType(types.StringType()))\n",
    "skills = jobs_reduced.withColumn(\"skills_list\", udf_skills(col(\"skills\")))\n",
    "skills = skills.withColumn(\"skill\", explode(\"skills_list\"))"
   ]
  },
  {
   "cell_type": "code",
   "execution_count": 26,
   "id": "902d1f95-66dd-4071-8c72-348e795b1697",
   "metadata": {},
   "outputs": [],
   "source": [
    "def skill_similarity(skill_str):\n",
    "    dists = []\n",
    "    for skill in user_reqs[\"skills\"]:\n",
    "        # for each skill in the provided list, calculate cosine distance\n",
    "        dists.append(td.cosine(skill_str.lower().strip(), skill.lower().strip()))\n",
    "\n",
    "    # return the cosine distance of the skill in the list with the max similarity\n",
    "    return td.cosine(skill_str.lower().strip(), user_reqs[\"skills\"][np.argmax(dists)].lower().strip())\n",
    "\n",
    "udf_similarity = udf(skill_similarity, types.FloatType())\n",
    "similarity = skills.withColumn(\"similarity\", udf_similarity(col(\"skill\")))"
   ]
  },
  {
   "cell_type": "code",
   "execution_count": 27,
   "id": "4b7ebb20-63e6-42ad-9616-4e1580333734",
   "metadata": {},
   "outputs": [
    {
     "name": "stderr",
     "output_type": "stream",
     "text": [
      "                                                                                \r"
     ]
    },
    {
     "data": {
      "text/plain": [
       "['Server Developer',\n",
       " 'Database Developer',\n",
       " 'Test Automation Engineer',\n",
       " 'Automation Tester',\n",
       " 'Backend Web Developer']"
      ]
     },
     "execution_count": 27,
     "metadata": {},
     "output_type": "execute_result"
    }
   ],
   "source": [
    "count_cond = lambda cond: F.sum(F.when(cond,  1).otherwise(0))\n",
    "# count the rows with a high enough similarity\n",
    "similar_count = similarity.groupBy(\"Role\").agg(count_cond(col(\"similarity\") > .75).alias(\"num_similar\"))\n",
    "skills_count = similarity.groupBy(\"Role\").count()\n",
    "# for each role, get the proportion of rows that had a high enough similarity\n",
    "counts = similar_count.join(skills_count, \"Role\").withColumn(\"percent_similar\", (col(\"num_similar\") / col(\"count\")))\n",
    "\n",
    "# get top roles\n",
    "sorted = counts.orderBy(counts[\"percent_similar\"].desc())\n",
    "top = sorted.limit(5).toPandas()\n",
    "list(top[\"Role\"].values)"
   ]
  },
  {
   "cell_type": "markdown",
   "id": "d6b9091c-89ef-4b98-8683-789e70eebb0b",
   "metadata": {},
   "source": [
    "## JSON Method\n",
    "Using spark on runtime is slow.  First, generate an output file with a list of the most common skills for each role (feature 2), and then load this output file upon runtime."
   ]
  },
  {
   "cell_type": "code",
   "execution_count": 10,
   "id": "14236488-484c-4ab1-ba97-113b959fa353",
   "metadata": {},
   "outputs": [],
   "source": [
    "with open(\"../outputs/role_skills.json\") as f:\n",
    "    role_skills = json.load(f)\n",
    "with open(\"../outputs/role_stats.json\") as f:\n",
    "    role_stats = json.load(f)"
   ]
  },
  {
   "cell_type": "code",
   "execution_count": 98,
   "id": "21d1abb9-c663-4974-b3b4-78765a831c48",
   "metadata": {},
   "outputs": [
    {
     "data": {
      "text/plain": [
       "['Java Backend Developer']"
      ]
     },
     "execution_count": 98,
     "metadata": {},
     "output_type": "execute_result"
    }
   ],
   "source": [
    "satisfy_salary = []\n",
    "for role in role_stats.keys():\n",
    "    if role_stats[role][\"salary\"] >= user_reqs[\"salary\"]:\n",
    "        satisfy_salary.append(role)\n",
    "\n",
    "ratios = []\n",
    "for role in satisfy_salary:\n",
    "    similarities = []\n",
    "    for role_skill in role_skills[role]:\n",
    "        max_sim = 0\n",
    "        for user_skill in user_reqs[\"skills\"]:\n",
    "            dist = td.cosine(role_skill.lower().strip(), user_skill.lower().strip())\n",
    "            if dist > max_sim:\n",
    "                max_sim = dist\n",
    "        similarities.append(max_sim)\n",
    "    ratios.append(len([s for s in similarities if s > .75]) / len(similarities))\n",
    "\n",
    "top_roles = []\n",
    "indices = np.array(ratios).argsort()[-5:][::-1]\n",
    "for i in indices:\n",
    "    if ratios[i] > 0:\n",
    "        top_roles.append(satisfy_salary[i])\n",
    "        \n",
    "top_roles"
   ]
  }
 ],
 "metadata": {
  "kernelspec": {
   "display_name": "Python [conda env:bigdata]",
   "language": "python",
   "name": "conda-env-bigdata-py"
  },
  "language_info": {
   "codemirror_mode": {
    "name": "ipython",
    "version": 3
   },
   "file_extension": ".py",
   "mimetype": "text/x-python",
   "name": "python",
   "nbconvert_exporter": "python",
   "pygments_lexer": "ipython3",
   "version": "3.10.13"
  }
 },
 "nbformat": 4,
 "nbformat_minor": 5
}
